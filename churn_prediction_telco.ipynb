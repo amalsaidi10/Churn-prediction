{
  "nbformat": 4,
  "nbformat_minor": 0,
  "metadata": {
    "colab": {
      "provenance": [],
      "mount_file_id": "1OZY0TX6PU-6u8c6LvX4Q7iEaTTBK6FWL",
      "authorship_tag": "ABX9TyNKS1kOcIcVt3fyeApvI5Ox",
      "include_colab_link": true
    },
    "kernelspec": {
      "name": "python3",
      "display_name": "Python 3"
    },
    "language_info": {
      "name": "python"
    }
  },
  "cells": [
    {
      "cell_type": "markdown",
      "metadata": {
        "id": "view-in-github",
        "colab_type": "text"
      },
      "source": [
        "<a href=\"https://colab.research.google.com/github/amalsaidi10/Churn-prediction/blob/main/churn_prediction_telco.ipynb\" target=\"_parent\"><img src=\"https://colab.research.google.com/assets/colab-badge.svg\" alt=\"Open In Colab\"/></a>"
      ]
    },
    {
      "cell_type": "code",
      "source": [
        "import pandas as pd \n",
        "from zipfile import ZipFile"
      ],
      "metadata": {
        "id": "9SAC1TrQE4MB"
      },
      "execution_count": 254,
      "outputs": []
    },
    {
      "cell_type": "code",
      "source": [
        "from google.colab import drive"
      ],
      "metadata": {
        "id": "yRL6gvSJE9HI"
      },
      "execution_count": 255,
      "outputs": []
    },
    {
      "cell_type": "markdown",
      "source": [
        "#Load data into pandas dataframe"
      ],
      "metadata": {
        "id": "Av7Lbr8ZElw3"
      }
    },
    {
      "cell_type": "code",
      "execution_count": 256,
      "metadata": {
        "colab": {
          "base_uri": "https://localhost:8080/"
        },
        "id": "7nhw8q9JEjjk",
        "outputId": "e6f6513a-c34f-46ba-8208-013df8638cc3"
      },
      "outputs": [
        {
          "output_type": "stream",
          "name": "stdout",
          "text": [
            "File Name                                             Modified             Size\n",
            "training.csv                                   2019-11-17 22:31:32      1345205\n",
            "validation.csv                                 2019-11-17 22:31:32       427718\n",
            "TELCO churn.pdf                                2019-12-04 14:28:44       131702\n"
          ]
        }
      ],
      "source": [
        "#read zip file\n",
        "zip= ZipFile(\"/content/drive/MyDrive/Churn_case_study.zip\",'r')\n",
        "zip.printdir()\n",
        "zip.extractall()"
      ]
    },
    {
      "cell_type": "code",
      "source": [
        "df_validation=pd.read_csv(\"validation.csv\")\n",
        "df_training=pd.read_csv(\"training.csv\")"
      ],
      "metadata": {
        "id": "WGNmSJLdFk_e"
      },
      "execution_count": 257,
      "outputs": []
    },
    {
      "cell_type": "code",
      "source": [
        "print(df_training.head(5))"
      ],
      "metadata": {
        "colab": {
          "base_uri": "https://localhost:8080/"
        },
        "id": "PFaiXSTgFqBn",
        "outputId": "b1742700-5aa3-40f7-a2d4-e8b74d00c216"
      },
      "execution_count": 258,
      "outputs": [
        {
          "output_type": "stream",
          "name": "stdout",
          "text": [
            "  CUSTOMER_ID COLLEGE        DATA   INCOME  OVERCHARGE  LEFTOVER     HOUSE  \\\n",
            "0     C100000    zero  660.000000  19995.0           0         0  897338.0   \n",
            "1     C100001     one  317.647059  31477.0         155        15  393396.0   \n",
            "2     C100006    zero  208.695652  66742.0           0        13  937197.0   \n",
            "3     C100008    zero  265.017668  40864.0         183         0  986430.0   \n",
            "4     C100010     one  440.000000  43321.5         200         0  394622.0   \n",
            "\n",
            "  LESSTHAN600k  CHILD  JOB_CLASS  REVENUE  HANDSET_PRICE  \\\n",
            "0        False      4          3    160.0            155   \n",
            "1         True      0          1    100.0            245   \n",
            "2        False      4          2    127.0            493   \n",
            "3        False      3          3     86.0            390   \n",
            "4         True      2          3     77.0            175   \n",
            "\n",
            "   OVER_15MINS_CALLS_PER_MONTH  TIME_CLIENT  AVERAGE_CALL_DURATION  \\\n",
            "0                            1          1.2                     15   \n",
            "1                           27          2.7                      4   \n",
            "2                           20          2.6                      4   \n",
            "3                           13          2.5                     12   \n",
            "4                           18          2.4                     10   \n",
            "\n",
            "  REPORTED_SATISFACTION REPORTED_USAGE_LEVEL CONSIDERING_CHANGE_OF_PLAN  \\\n",
            "0            very_unsat               little                considering   \n",
            "1                 unsat               little                considering   \n",
            "2                   avg          very_little                considering   \n",
            "3                 unsat            very_high                considering   \n",
            "4            very_unsat               little   actively_looking_into_it   \n",
            "\n",
            "  CHURNED  \n",
            "0    STAY  \n",
            "1   LEAVE  \n",
            "2    STAY  \n",
            "3   LEAVE  \n",
            "4   LEAVE  \n"
          ]
        }
      ]
    },
    {
      "cell_type": "code",
      "source": [
        "print(df_validation.head(5))"
      ],
      "metadata": {
        "colab": {
          "base_uri": "https://localhost:8080/"
        },
        "id": "8iYPVNv1F4oW",
        "outputId": "240e3178-04ca-42a6-a486-30a30eb69422"
      },
      "execution_count": 259,
      "outputs": [
        {
          "output_type": "stream",
          "name": "stdout",
          "text": [
            "  CUSTOMER_ID COLLEGE        DATA   INCOME  OVERCHARGE  LEFTOVER     HOUSE  \\\n",
            "0     C100002     one   80.000000  45452.5          75        65  342741.0   \n",
            "1     C100003    zero  536.842105  40703.5          90         0  215904.0   \n",
            "2     C100004    zero  256.578947  35563.0          52         0  341828.0   \n",
            "3     C100005    zero  466.666667  66072.5           0         8  257222.0   \n",
            "4     C100007    zero  150.000000  21901.5           0         0  800811.0   \n",
            "\n",
            "  LESSTHAN600k  CHILD  JOB_CLASS  REVENUE  HANDSET_PRICE  \\\n",
            "0         True      3          1    149.0            300   \n",
            "1         True      1          1    176.0            384   \n",
            "2         True      2          3    124.0            371   \n",
            "3         True      3          1    279.0            324   \n",
            "4        False      1          3    128.0            164   \n",
            "\n",
            "   OVER_15MINS_CALLS_PER_MONTH  TIME_CLIENT  AVERAGE_CALL_DURATION  \\\n",
            "0                            3          2.2                      2   \n",
            "1                            4          2.4                     13   \n",
            "2                            5          2.3                     12   \n",
            "3                            1          2.8                      5   \n",
            "4                            1          1.5                     12   \n",
            "\n",
            "  REPORTED_SATISFACTION REPORTED_USAGE_LEVEL CONSIDERING_CHANGE_OF_PLAN  \n",
            "0                 unsat               little                considering  \n",
            "1                 unsat            very_high   actively_looking_into_it  \n",
            "2              very_sat                  avg                considering  \n",
            "3              very_sat          very_little   actively_looking_into_it  \n",
            "4                   avg            very_high                    perhaps  \n"
          ]
        }
      ]
    },
    {
      "cell_type": "code",
      "source": [
        "print(df_training.shape)"
      ],
      "metadata": {
        "colab": {
          "base_uri": "https://localhost:8080/"
        },
        "id": "TWmQjCWzGBm2",
        "outputId": "2004ee3e-30c5-45fc-e0a0-910167952a02"
      },
      "execution_count": 260,
      "outputs": [
        {
          "output_type": "stream",
          "name": "stdout",
          "text": [
            "(11981, 19)\n"
          ]
        }
      ]
    },
    {
      "cell_type": "code",
      "source": [
        "print(df_training.info())"
      ],
      "metadata": {
        "colab": {
          "base_uri": "https://localhost:8080/"
        },
        "id": "qhU4e-mGGFwO",
        "outputId": "dcff8550-8d21-4b1b-b54f-8978b69f69d0"
      },
      "execution_count": 261,
      "outputs": [
        {
          "output_type": "stream",
          "name": "stdout",
          "text": [
            "<class 'pandas.core.frame.DataFrame'>\n",
            "RangeIndex: 11981 entries, 0 to 11980\n",
            "Data columns (total 19 columns):\n",
            " #   Column                       Non-Null Count  Dtype  \n",
            "---  ------                       --------------  -----  \n",
            " 0   CUSTOMER_ID                  11981 non-null  object \n",
            " 1   COLLEGE                      11981 non-null  object \n",
            " 2   DATA                         11981 non-null  float64\n",
            " 3   INCOME                       11981 non-null  float64\n",
            " 4   OVERCHARGE                   11981 non-null  int64  \n",
            " 5   LEFTOVER                     11981 non-null  int64  \n",
            " 6   HOUSE                        11346 non-null  float64\n",
            " 7   LESSTHAN600k                 11346 non-null  object \n",
            " 8   CHILD                        11981 non-null  int64  \n",
            " 9   JOB_CLASS                    11981 non-null  int64  \n",
            " 10  REVENUE                      11981 non-null  float64\n",
            " 11  HANDSET_PRICE                11981 non-null  int64  \n",
            " 12  OVER_15MINS_CALLS_PER_MONTH  11981 non-null  int64  \n",
            " 13  TIME_CLIENT                  11981 non-null  float64\n",
            " 14  AVERAGE_CALL_DURATION        11981 non-null  int64  \n",
            " 15  REPORTED_SATISFACTION        11981 non-null  object \n",
            " 16  REPORTED_USAGE_LEVEL         11981 non-null  object \n",
            " 17  CONSIDERING_CHANGE_OF_PLAN   11981 non-null  object \n",
            " 18  CHURNED                      11981 non-null  object \n",
            "dtypes: float64(5), int64(7), object(7)\n",
            "memory usage: 1.7+ MB\n",
            "None\n"
          ]
        }
      ]
    },
    {
      "cell_type": "code",
      "source": [
        "print(df_training.describe())"
      ],
      "metadata": {
        "colab": {
          "base_uri": "https://localhost:8080/"
        },
        "id": "q8STjJrcGZ0G",
        "outputId": "3c8b5eb8-5235-4d03-ef64-2f37b1c52b7b"
      },
      "execution_count": 262,
      "outputs": [
        {
          "output_type": "stream",
          "name": "stdout",
          "text": [
            "               DATA         INCOME    OVERCHARGE      LEFTOVER          HOUSE  \\\n",
            "count  11981.000000   11981.000000  11981.000000  11981.000000   11346.000000   \n",
            "mean     503.625376   47595.943703     80.185460     23.785577  506521.681650   \n",
            "std      457.156513   22293.736749     84.587419     26.680037  256808.319571   \n",
            "min        0.000000   10032.500000     -2.000000      0.000000  150015.000000   \n",
            "25%      181.818182   29367.000000      0.000000      0.000000  268511.250000   \n",
            "50%      360.995851   44992.500000     56.000000     15.000000  469775.500000   \n",
            "75%      685.714286   65078.000000    171.000000     41.000000  722464.250000   \n",
            "max     6600.000000  105355.500000    298.000000     89.000000  999996.000000   \n",
            "\n",
            "              CHILD     JOB_CLASS       REVENUE  HANDSET_PRICE  \\\n",
            "count  11981.000000  11981.000000  11981.000000   11981.000000   \n",
            "mean       2.070194      2.508639    155.541941     383.495868   \n",
            "std        1.249974      1.120546     47.905580     210.601172   \n",
            "min        0.000000      1.000000     50.000000     130.000000   \n",
            "25%        1.000000      2.000000    121.000000     217.000000   \n",
            "50%        2.000000      3.000000    149.000000     322.000000   \n",
            "75%        3.000000      4.000000    182.000000     515.000000   \n",
            "max        7.000000      4.000000    521.000000     899.000000   \n",
            "\n",
            "       OVER_15MINS_CALLS_PER_MONTH   TIME_CLIENT  AVERAGE_CALL_DURATION  \n",
            "count                 11981.000000  11981.000000           11981.000000  \n",
            "mean                      7.540356      3.079250               5.972957  \n",
            "std                       8.768863      1.650221               4.361189  \n",
            "min                       0.000000      0.300000               1.000000  \n",
            "25%                       1.000000      1.900000               2.000000  \n",
            "50%                       4.000000      2.700000               5.000000  \n",
            "75%                      13.000000      3.800000               9.000000  \n",
            "max                      29.000000     21.000000              15.000000  \n"
          ]
        }
      ]
    },
    {
      "cell_type": "code",
      "source": [
        "print(df_training.columns)"
      ],
      "metadata": {
        "colab": {
          "base_uri": "https://localhost:8080/"
        },
        "id": "LSn6ZKKWGetu",
        "outputId": "d98b99f2-5e85-420f-d73e-6a44408f218c"
      },
      "execution_count": 263,
      "outputs": [
        {
          "output_type": "stream",
          "name": "stdout",
          "text": [
            "Index(['CUSTOMER_ID', 'COLLEGE', 'DATA', 'INCOME', 'OVERCHARGE', 'LEFTOVER',\n",
            "       'HOUSE', 'LESSTHAN600k', 'CHILD', 'JOB_CLASS', 'REVENUE',\n",
            "       'HANDSET_PRICE', 'OVER_15MINS_CALLS_PER_MONTH', 'TIME_CLIENT',\n",
            "       'AVERAGE_CALL_DURATION', 'REPORTED_SATISFACTION',\n",
            "       'REPORTED_USAGE_LEVEL', 'CONSIDERING_CHANGE_OF_PLAN', 'CHURNED'],\n",
            "      dtype='object')\n"
          ]
        }
      ]
    },
    {
      "cell_type": "code",
      "source": [
        "print(df_training[\"CHURNED\"])"
      ],
      "metadata": {
        "colab": {
          "base_uri": "https://localhost:8080/"
        },
        "id": "b7njrb4TG8Mm",
        "outputId": "98601d48-dc20-4dde-8a3f-fe9d12ac3d6c"
      },
      "execution_count": 264,
      "outputs": [
        {
          "output_type": "stream",
          "name": "stdout",
          "text": [
            "0         STAY\n",
            "1        LEAVE\n",
            "2         STAY\n",
            "3        LEAVE\n",
            "4        LEAVE\n",
            "         ...  \n",
            "11976     STAY\n",
            "11977    LEAVE\n",
            "11978    LEAVE\n",
            "11979     STAY\n",
            "11980     STAY\n",
            "Name: CHURNED, Length: 11981, dtype: object\n"
          ]
        }
      ]
    },
    {
      "cell_type": "code",
      "source": [
        "print(df_training[\"CHURNED\"].hist())"
      ],
      "metadata": {
        "colab": {
          "base_uri": "https://localhost:8080/",
          "height": 282
        },
        "id": "BcFXWB6LHEzD",
        "outputId": "e3cb00fb-7b53-4c5e-d2d1-abe9b840237a"
      },
      "execution_count": 265,
      "outputs": [
        {
          "output_type": "stream",
          "name": "stdout",
          "text": [
            "AxesSubplot(0.125,0.125;0.775x0.755)\n"
          ]
        },
        {
          "output_type": "display_data",
          "data": {
            "text/plain": [
              "<Figure size 432x288 with 1 Axes>"
            ],
            "image/png": "[encoded data removed]"
          },
          "metadata": {
            "needs_background": "light"
          }
        }
      ]
    },
    {
      "cell_type": "code",
      "source": [
        "df_training.isna().sum()"
      ],
      "metadata": {
        "colab": {
          "base_uri": "https://localhost:8080/"
        },
        "id": "lBg-FQWsIFfW",
        "outputId": "5b8a5d9d-c538-4da4-e8ed-eb61e9ded8da"
      },
      "execution_count": 266,
      "outputs": [
        {
          "output_type": "execute_result",
          "data": {
            "text/plain": [
              "CUSTOMER_ID                      0\n",
              "COLLEGE                          0\n",
              "DATA                             0\n",
              "INCOME                           0\n",
              "OVERCHARGE                       0\n",
              "LEFTOVER                         0\n",
              "HOUSE                          635\n",
              "LESSTHAN600k                   635\n",
              "CHILD                            0\n",
              "JOB_CLASS                        0\n",
              "REVENUE                          0\n",
              "HANDSET_PRICE                    0\n",
              "OVER_15MINS_CALLS_PER_MONTH      0\n",
              "TIME_CLIENT                      0\n",
              "AVERAGE_CALL_DURATION            0\n",
              "REPORTED_SATISFACTION            0\n",
              "REPORTED_USAGE_LEVEL             0\n",
              "CONSIDERING_CHANGE_OF_PLAN       0\n",
              "CHURNED                          0\n",
              "dtype: int64"
            ]
          },
          "metadata": {},
          "execution_count": 266
        }
      ]
    },
    {
      "cell_type": "markdown",
      "source": [
        "1/**imblanced data** , the majority of the label column take the value=**stay**\n",
        "\n",
        "2/column=\"HOUSE\" and column=\"LESSTHAN600K\"  ,both of this columns contain missing value"
      ],
      "metadata": {
        "id": "h-_wHIHRHOiT"
      }
    },
    {
      "cell_type": "code",
      "source": [
        "print(df_training['HOUSE'])"
      ],
      "metadata": {
        "colab": {
          "base_uri": "https://localhost:8080/"
        },
        "id": "oUDy8Z7BHYHm",
        "outputId": "e24be7ba-2a7b-4410-c3f7-e95177d27ac0"
      },
      "execution_count": 267,
      "outputs": [
        {
          "output_type": "stream",
          "name": "stdout",
          "text": [
            "0        897338.0\n",
            "1        393396.0\n",
            "2        937197.0\n",
            "3        986430.0\n",
            "4        394622.0\n",
            "           ...   \n",
            "11976    458723.0\n",
            "11977    328171.0\n",
            "11978    439967.0\n",
            "11979    795808.0\n",
            "11980    291220.0\n",
            "Name: HOUSE, Length: 11981, dtype: float64\n"
          ]
        }
      ]
    },
    {
      "cell_type": "code",
      "source": [
        "print(df_training['LESSTHAN600k'])"
      ],
      "metadata": {
        "colab": {
          "base_uri": "https://localhost:8080/"
        },
        "id": "verhH6QCH63Y",
        "outputId": "6d3d1ede-b961-462e-a661-7767ad73c50a"
      },
      "execution_count": 268,
      "outputs": [
        {
          "output_type": "stream",
          "name": "stdout",
          "text": [
            "0        False\n",
            "1         True\n",
            "2        False\n",
            "3        False\n",
            "4         True\n",
            "         ...  \n",
            "11976     True\n",
            "11977     True\n",
            "11978     True\n",
            "11979    False\n",
            "11980     True\n",
            "Name: LESSTHAN600k, Length: 11981, dtype: object\n"
          ]
        }
      ]
    },
    {
      "cell_type": "markdown",
      "source": [
        "#clean the data\n",
        "\n",
        "---\n",
        "1/Missing value\n"
      ],
      "metadata": {
        "id": "e_FegTiHKY-9"
      }
    },
    {
      "cell_type": "code",
      "source": [
        "def missing_value_continous(df):\n",
        "  mean=df.mean()\n",
        "  return df.fillna(value=mean,inplace=True)\n",
        "def missing_value_categorical(df):\n",
        "  mod=df.mode().iloc[0]\n",
        "  return df.fillna(value=mod,inplace=True)"
      ],
      "metadata": {
        "id": "Gu0umGMLH93O"
      },
      "execution_count": 269,
      "outputs": []
    },
    {
      "cell_type": "code",
      "source": [
        "missing_value_continous(df_training[\"HOUSE\"])\n",
        "missing_value_categorical(df_training[\"LESSTHAN600k\"])"
      ],
      "metadata": {
        "id": "re-K0jY5JEqV"
      },
      "execution_count": 270,
      "outputs": []
    },
    {
      "cell_type": "code",
      "source": [
        "df_training.isna().sum()"
      ],
      "metadata": {
        "colab": {
          "base_uri": "https://localhost:8080/"
        },
        "id": "3the3AbeKM31",
        "outputId": "194ea395-3605-4842-a000-3bcff0bd9f74"
      },
      "execution_count": 271,
      "outputs": [
        {
          "output_type": "execute_result",
          "data": {
            "text/plain": [
              "CUSTOMER_ID                    0\n",
              "COLLEGE                        0\n",
              "DATA                           0\n",
              "INCOME                         0\n",
              "OVERCHARGE                     0\n",
              "LEFTOVER                       0\n",
              "HOUSE                          0\n",
              "LESSTHAN600k                   0\n",
              "CHILD                          0\n",
              "JOB_CLASS                      0\n",
              "REVENUE                        0\n",
              "HANDSET_PRICE                  0\n",
              "OVER_15MINS_CALLS_PER_MONTH    0\n",
              "TIME_CLIENT                    0\n",
              "AVERAGE_CALL_DURATION          0\n",
              "REPORTED_SATISFACTION          0\n",
              "REPORTED_USAGE_LEVEL           0\n",
              "CONSIDERING_CHANGE_OF_PLAN     0\n",
              "CHURNED                        0\n",
              "dtype: int64"
            ]
          },
          "metadata": {},
          "execution_count": 271
        }
      ]
    },
    {
      "cell_type": "markdown",
      "source": [
        "2/categorical features"
      ],
      "metadata": {
        "id": "n8QLVJ7JKrV1"
      }
    },
    {
      "cell_type": "markdown",
      "source": [
        "getting the list of categorical column"
      ],
      "metadata": {
        "id": "dvfl0QyfNI92"
      }
    },
    {
      "cell_type": "code",
      "source": [
        "df_training.select_dtypes(include=['object']).columns.tolist()"
      ],
      "metadata": {
        "colab": {
          "base_uri": "https://localhost:8080/"
        },
        "id": "UaEaS1AdKuYd",
        "outputId": "ed2f4ccb-9616-4d9c-cd75-287ccad44643"
      },
      "execution_count": 272,
      "outputs": [
        {
          "output_type": "execute_result",
          "data": {
            "text/plain": [
              "['CUSTOMER_ID',\n",
              " 'COLLEGE',\n",
              " 'REPORTED_SATISFACTION',\n",
              " 'REPORTED_USAGE_LEVEL',\n",
              " 'CONSIDERING_CHANGE_OF_PLAN',\n",
              " 'CHURNED']"
            ]
          },
          "metadata": {},
          "execution_count": 272
        }
      ]
    },
    {
      "cell_type": "code",
      "source": [
        "df_training[\"CHURNED\"].unique()\n",
        "#label encoding\n",
        "# Import label encoder\n",
        "from sklearn import preprocessing\n",
        "  \n",
        "# label_encoder object knows how to understand word labels.\n",
        "label_encoder = preprocessing.LabelEncoder()\n",
        "  \n",
        "# Encode labels in column 'species'.\n",
        "df_training[\"CHURNED\"]= label_encoder.fit_transform(df_training[\"CHURNED\"])\n",
        "  \n",
        "df_training[\"CHURNED\"]   #.unique()"
      ],
      "metadata": {
        "colab": {
          "base_uri": "https://localhost:8080/"
        },
        "id": "P20nD_RBV9nR",
        "outputId": "7ca95908-4d11-4d26-c93a-66cdfb235967"
      },
      "execution_count": 273,
      "outputs": [
        {
          "output_type": "execute_result",
          "data": {
            "text/plain": [
              "0        1\n",
              "1        0\n",
              "2        1\n",
              "3        0\n",
              "4        0\n",
              "        ..\n",
              "11976    1\n",
              "11977    0\n",
              "11978    0\n",
              "11979    1\n",
              "11980    1\n",
              "Name: CHURNED, Length: 11981, dtype: int64"
            ]
          },
          "metadata": {},
          "execution_count": 273
        }
      ]
    },
    {
      "cell_type": "code",
      "source": [
        "df_training['COLLEGE'].unique()\n",
        "# label_encoder object knows how to understand word labels.\n",
        "label_encoder = preprocessing.LabelEncoder()\n",
        "  \n",
        "# Encode labels in column 'species'.\n",
        "df_training[\"COLLEGE\"]= label_encoder.fit_transform(df_training[\"COLLEGE\"])\n",
        "  \n",
        "df_training[\"COLLEGE\"].unique()"
      ],
      "metadata": {
        "colab": {
          "base_uri": "https://localhost:8080/"
        },
        "id": "LobQZJEfbtqI",
        "outputId": "08fbf5c1-5bb3-4d31-8895-9152d0f3ee07"
      },
      "execution_count": 274,
      "outputs": [
        {
          "output_type": "execute_result",
          "data": {
            "text/plain": [
              "array([1, 0])"
            ]
          },
          "metadata": {},
          "execution_count": 274
        }
      ]
    },
    {
      "cell_type": "code",
      "source": [
        "df_training['REPORTED_SATISFACTION'].unique()\n",
        "#len(df_training['REPORTED_SATISFACTION'].unique())\n",
        "df_training[\"REPORTED_SATISFACTION\"]= label_encoder.fit_transform(df_training[\"REPORTED_SATISFACTION\"])\n",
        "  \n",
        "df_training[\"REPORTED_SATISFACTION\"].unique()"
      ],
      "metadata": {
        "colab": {
          "base_uri": "https://localhost:8080/"
        },
        "id": "SL1yV7Ihb57_",
        "outputId": "afad6750-cec2-49d7-f02d-35e16cd8aa6c"
      },
      "execution_count": 275,
      "outputs": [
        {
          "output_type": "execute_result",
          "data": {
            "text/plain": [
              "array([4, 2, 0, 3, 1])"
            ]
          },
          "metadata": {},
          "execution_count": 275
        }
      ]
    },
    {
      "cell_type": "code",
      "source": [
        "\n",
        "df_training['REPORTED_USAGE_LEVEL'].unique()\n",
        "df_training[\"REPORTED_USAGE_LEVEL\"]= label_encoder.fit_transform(df_training[\"REPORTED_USAGE_LEVEL\"])\n",
        "  \n",
        "df_training[\"REPORTED_USAGE_LEVEL\"].unique()"
      ],
      "metadata": {
        "colab": {
          "base_uri": "https://localhost:8080/"
        },
        "id": "SCaqI4gEczfx",
        "outputId": "520d77bf-dc7b-4d9f-f921-a50b20b2827a"
      },
      "execution_count": 276,
      "outputs": [
        {
          "output_type": "execute_result",
          "data": {
            "text/plain": [
              "array([2, 4, 3, 1, 0])"
            ]
          },
          "metadata": {},
          "execution_count": 276
        }
      ]
    },
    {
      "cell_type": "code",
      "source": [
        "df_training['CONSIDERING_CHANGE_OF_PLAN'].unique()\n",
        "#len(df_training['CONSIDERING_CHANGE_OF_PLAN'].unique())\n",
        "df_training[\"CONSIDERING_CHANGE_OF_PLAN\"]= label_encoder.fit_transform(df_training[\"CONSIDERING_CHANGE_OF_PLAN\"])\n",
        "  \n",
        "df_training[\"CONSIDERING_CHANGE_OF_PLAN\"].unique()"
      ],
      "metadata": {
        "colab": {
          "base_uri": "https://localhost:8080/"
        },
        "id": "Yc4nWJx0dAVn",
        "outputId": "fa9e6536-8358-4ab3-9a0c-c0b96a719228"
      },
      "execution_count": 277,
      "outputs": [
        {
          "output_type": "execute_result",
          "data": {
            "text/plain": [
              "array([1, 0, 2, 3, 4])"
            ]
          },
          "metadata": {},
          "execution_count": 277
        }
      ]
    },
    {
      "cell_type": "code",
      "source": [
        "\n",
        "df_training[\"LESSTHAN600k\"]= label_encoder.fit_transform(df_training[\"LESSTHAN600k\"])"
      ],
      "metadata": {
        "id": "-McvOghbM0VV"
      },
      "execution_count": 278,
      "outputs": []
    },
    {
      "cell_type": "code",
      "source": [
        "df_training.head()"
      ],
      "metadata": {
        "colab": {
          "base_uri": "https://localhost:8080/",
          "height": 270
        },
        "id": "8yUl4C83dFIX",
        "outputId": "849a11ed-6c1f-44e9-8e23-d9b8883d7b6a"
      },
      "execution_count": 279,
      "outputs": [
        {
          "output_type": "execute_result",
          "data": {
            "text/plain": [
              "  CUSTOMER_ID  COLLEGE        DATA   INCOME  OVERCHARGE  LEFTOVER     HOUSE  \\\n",
              "0     C100000        1  660.000000  19995.0           0         0  897338.0   \n",
              "1     C100001        0  317.647059  31477.0         155        15  393396.0   \n",
              "2     C100006        1  208.695652  66742.0           0        13  937197.0   \n",
              "3     C100008        1  265.017668  40864.0         183         0  986430.0   \n",
              "4     C100010        0  440.000000  43321.5         200         0  394622.0   \n",
              "\n",
              "   LESSTHAN600k  CHILD  JOB_CLASS  REVENUE  HANDSET_PRICE  \\\n",
              "0             0      4          3    160.0            155   \n",
              "1             1      0          1    100.0            245   \n",
              "2             0      4          2    127.0            493   \n",
              "3             0      3          3     86.0            390   \n",
              "4             1      2          3     77.0            175   \n",
              "\n",
              "   OVER_15MINS_CALLS_PER_MONTH  TIME_CLIENT  AVERAGE_CALL_DURATION  \\\n",
              "0                            1          1.2                     15   \n",
              "1                           27          2.7                      4   \n",
              "2                           20          2.6                      4   \n",
              "3                           13          2.5                     12   \n",
              "4                           18          2.4                     10   \n",
              "\n",
              "   REPORTED_SATISFACTION  REPORTED_USAGE_LEVEL  CONSIDERING_CHANGE_OF_PLAN  \\\n",
              "0                      4                     2                           1   \n",
              "1                      2                     2                           1   \n",
              "2                      0                     4                           1   \n",
              "3                      2                     3                           1   \n",
              "4                      4                     2                           0   \n",
              "\n",
              "   CHURNED  \n",
              "0        1  \n",
              "1        0  \n",
              "2        1  \n",
              "3        0  \n",
              "4        0  "
            ],
            "text/html": [
              "\n",
              "  <div id=\"df-498338fa-62a1-4fe3-8246-54631f69841f\">\n",
              "    <div class=\"colab-df-container\">\n",
              "      <div>\n",
              "<style scoped>\n",
              "    .dataframe tbody tr th:only-of-type {\n",
              "        vertical-align: middle;\n",
              "    }\n",
              "\n",
              "    .dataframe tbody tr th {\n",
              "        vertical-align: top;\n",
              "    }\n",
              "\n",
              "    .dataframe thead th {\n",
              "        text-align: right;\n",
              "    }\n",
              "</style>\n",
              "<table border=\"1\" class=\"dataframe\">\n",
              "  <thead>\n",
              "    <tr style=\"text-align: right;\">\n",
              "      <th></th>\n",
              "      <th>CUSTOMER_ID</th>\n",
              "      <th>COLLEGE</th>\n",
              "      <th>DATA</th>\n",
              "      <th>INCOME</th>\n",
              "      <th>OVERCHARGE</th>\n",
              "      <th>LEFTOVER</th>\n",
              "      <th>HOUSE</th>\n",
              "      <th>LESSTHAN600k</th>\n",
              "      <th>CHILD</th>\n",
              "      <th>JOB_CLASS</th>\n",
              "      <th>REVENUE</th>\n",
              "      <th>HANDSET_PRICE</th>\n",
              "      <th>OVER_15MINS_CALLS_PER_MONTH</th>\n",
              "      <th>TIME_CLIENT</th>\n",
              "      <th>AVERAGE_CALL_DURATION</th>\n",
              "      <th>REPORTED_SATISFACTION</th>\n",
              "      <th>REPORTED_USAGE_LEVEL</th>\n",
              "      <th>CONSIDERING_CHANGE_OF_PLAN</th>\n",
              "      <th>CHURNED</th>\n",
              "    </tr>\n",
              "  </thead>\n",
              "  <tbody>\n",
              "    <tr>\n",
              "      <th>0</th>\n",
              "      <td>C100000</td>\n",
              "      <td>1</td>\n",
              "      <td>660.000000</td>\n",
              "      <td>19995.0</td>\n",
              "      <td>0</td>\n",
              "      <td>0</td>\n",
              "      <td>897338.0</td>\n",
              "      <td>0</td>\n",
              "      <td>4</td>\n",
              "      <td>3</td>\n",
              "      <td>160.0</td>\n",
              "      <td>155</td>\n",
              "      <td>1</td>\n",
              "      <td>1.2</td>\n",
              "      <td>15</td>\n",
              "      <td>4</td>\n",
              "      <td>2</td>\n",
              "      <td>1</td>\n",
              "      <td>1</td>\n",
              "    </tr>\n",
              "    <tr>\n",
              "      <th>1</th>\n",
              "      <td>C100001</td>\n",
              "      <td>0</td>\n",
              "      <td>317.647059</td>\n",
              "      <td>31477.0</td>\n",
              "      <td>155</td>\n",
              "      <td>15</td>\n",
              "      <td>393396.0</td>\n",
              "      <td>1</td>\n",
              "      <td>0</td>\n",
              "      <td>1</td>\n",
              "      <td>100.0</td>\n",
              "      <td>245</td>\n",
              "      <td>27</td>\n",
              "      <td>2.7</td>\n",
              "      <td>4</td>\n",
              "      <td>2</td>\n",
              "      <td>2</td>\n",
              "      <td>1</td>\n",
              "      <td>0</td>\n",
              "    </tr>\n",
              "    <tr>\n",
              "      <th>2</th>\n",
              "      <td>C100006</td>\n",
              "      <td>1</td>\n",
              "      <td>208.695652</td>\n",
              "      <td>66742.0</td>\n",
              "      <td>0</td>\n",
              "      <td>13</td>\n",
              "      <td>937197.0</td>\n",
              "      <td>0</td>\n",
              "      <td>4</td>\n",
              "      <td>2</td>\n",
              "      <td>127.0</td>\n",
              "      <td>493</td>\n",
              "      <td>20</td>\n",
              "      <td>2.6</td>\n",
              "      <td>4</td>\n",
              "      <td>0</td>\n",
              "      <td>4</td>\n",
              "      <td>1</td>\n",
              "      <td>1</td>\n",
              "    </tr>\n",
              "    <tr>\n",
              "      <th>3</th>\n",
              "      <td>C100008</td>\n",
              "      <td>1</td>\n",
              "      <td>265.017668</td>\n",
              "      <td>40864.0</td>\n",
              "      <td>183</td>\n",
              "      <td>0</td>\n",
              "      <td>986430.0</td>\n",
              "      <td>0</td>\n",
              "      <td>3</td>\n",
              "      <td>3</td>\n",
              "      <td>86.0</td>\n",
              "      <td>390</td>\n",
              "      <td>13</td>\n",
              "      <td>2.5</td>\n",
              "      <td>12</td>\n",
              "      <td>2</td>\n",
              "      <td>3</td>\n",
              "      <td>1</td>\n",
              "      <td>0</td>\n",
              "    </tr>\n",
              "    <tr>\n",
              "      <th>4</th>\n",
              "      <td>C100010</td>\n",
              "      <td>0</td>\n",
              "      <td>440.000000</td>\n",
              "      <td>43321.5</td>\n",
              "      <td>200</td>\n",
              "      <td>0</td>\n",
              "      <td>394622.0</td>\n",
              "      <td>1</td>\n",
              "      <td>2</td>\n",
              "      <td>3</td>\n",
              "      <td>77.0</td>\n",
              "      <td>175</td>\n",
              "      <td>18</td>\n",
              "      <td>2.4</td>\n",
              "      <td>10</td>\n",
              "      <td>4</td>\n",
              "      <td>2</td>\n",
              "      <td>0</td>\n",
              "      <td>0</td>\n",
              "    </tr>\n",
              "  </tbody>\n",
              "</table>\n",
              "</div>\n",
              "      <button class=\"colab-df-convert\" onclick=\"convertToInteractive('df-498338fa-62a1-4fe3-8246-54631f69841f')\"\n",
              "              title=\"Convert this dataframe to an interactive table.\"\n",
              "              style=\"display:none;\">\n",
              "        \n",
              "  <svg xmlns=\"http://www.w3.org/2000/svg\" height=\"24px\"viewBox=\"0 0 24 24\"\n",
              "       width=\"24px\">\n",
              "    <path d=\"M0 0h24v24H0V0z\" fill=\"none\"/>\n",
              "    <path d=\"M18.56 5.44l.94 2.06.94-2.06 2.06-.94-2.06-.94-.94-2.06-.94 2.06-2.06.94zm-11 1L8.5 8.5l.94-2.06 2.06-.94-2.06-.94L8.5 2.5l-.94 2.06-2.06.94zm10 10l.94 2.06.94-2.06 2.06-.94-2.06-.94-.94-2.06-.94 2.06-2.06.94z\"/><path d=\"M17.41 7.96l-1.37-1.37c-.4-.4-.92-.59-1.43-.59-.52 0-1.04.2-1.43.59L10.3 9.45l-7.72 7.72c-.78.78-.78 2.05 0 2.83L4 21.41c.39.39.9.59 1.41.59.51 0 1.02-.2 1.41-.59l7.78-7.78 2.81-2.81c.8-.78.8-2.07 0-2.86zM5.41 20L4 18.59l7.72-7.72 1.47 1.35L5.41 20z\"/>\n",
              "  </svg>\n",
              "      </button>\n",
              "      \n",
              "  <style>\n",
              "    .colab-df-container {\n",
              "      display:flex;\n",
              "      flex-wrap:wrap;\n",
              "      gap: 12px;\n",
              "    }\n",
              "\n",
              "    .colab-df-convert {\n",
              "      background-color: #E8F0FE;\n",
              "      border: none;\n",
              "      border-radius: 50%;\n",
              "      cursor: pointer;\n",
              "      display: none;\n",
              "      fill: #1967D2;\n",
              "      height: 32px;\n",
              "      padding: 0 0 0 0;\n",
              "      width: 32px;\n",
              "    }\n",
              "\n",
              "    .colab-df-convert:hover {\n",
              "      background-color: #E2EBFA;\n",
              "      box-shadow: 0px 1px 2px rgba(60, 64, 67, 0.3), 0px 1px 3px 1px rgba(60, 64, 67, 0.15);\n",
              "      fill: #174EA6;\n",
              "    }\n",
              "\n",
              "    [theme=dark] .colab-df-convert {\n",
              "      background-color: #3B4455;\n",
              "      fill: #D2E3FC;\n",
              "    }\n",
              "\n",
              "    [theme=dark] .colab-df-convert:hover {\n",
              "      background-color: #434B5C;\n",
              "      box-shadow: 0px 1px 3px 1px rgba(0, 0, 0, 0.15);\n",
              "      filter: drop-shadow(0px 1px 2px rgba(0, 0, 0, 0.3));\n",
              "      fill: #FFFFFF;\n",
              "    }\n",
              "  </style>\n",
              "\n",
              "      <script>\n",
              "        const buttonEl =\n",
              "          document.querySelector('#df-498338fa-62a1-4fe3-8246-54631f69841f button.colab-df-convert');\n",
              "        buttonEl.style.display =\n",
              "          google.colab.kernel.accessAllowed ? 'block' : 'none';\n",
              "\n",
              "        async function convertToInteractive(key) {\n",
              "          const element = document.querySelector('#df-498338fa-62a1-4fe3-8246-54631f69841f');\n",
              "          const dataTable =\n",
              "            await google.colab.kernel.invokeFunction('convertToInteractive',\n",
              "                                                     [key], {});\n",
              "          if (!dataTable) return;\n",
              "\n",
              "          const docLinkHtml = 'Like what you see? Visit the ' +\n",
              "            '<a target=\"_blank\" href=https://colab.research.google.com/notebooks/data_table.ipynb>data table notebook</a>'\n",
              "            + ' to learn more about interactive tables.';\n",
              "          element.innerHTML = '';\n",
              "          dataTable['output_type'] = 'display_data';\n",
              "          await google.colab.output.renderOutput(dataTable, element);\n",
              "          const docLink = document.createElement('div');\n",
              "          docLink.innerHTML = docLinkHtml;\n",
              "          element.appendChild(docLink);\n",
              "        }\n",
              "      </script>\n",
              "    </div>\n",
              "  </div>\n",
              "  "
            ]
          },
          "metadata": {},
          "execution_count": 279
        }
      ]
    },
    {
      "cell_type": "markdown",
      "source": [
        "Normalization"
      ],
      "metadata": {
        "id": "-dYQvutpNDvu"
      }
    },
    {
      "cell_type": "code",
      "source": [
        "from sklearn.preprocessing import Normalizer\n",
        "\n",
        "norm = Normalizer()\n",
        "df_training.iloc[:,1:-1] = norm.fit_transform(df_training.iloc[:,1:-1])\n",
        "df_training"
      ],
      "metadata": {
        "colab": {
          "base_uri": "https://localhost:8080/",
          "height": 488
        },
        "id": "lfAivgbjMrny",
        "outputId": "ad5d3c79-5d8b-4d52-8f72-a362d277ae7e"
      },
      "execution_count": 280,
      "outputs": [
        {
          "output_type": "execute_result",
          "data": {
            "text/plain": [
              "      CUSTOMER_ID   COLLEGE      DATA    INCOME  OVERCHARGE  LEFTOVER  \\\n",
              "0         C100000  0.000001  0.000735  0.022277    0.000000  0.000000   \n",
              "1         C100001  0.000000  0.000805  0.079759    0.000393  0.000038   \n",
              "2         C100006  0.000001  0.000222  0.071035    0.000000  0.000014   \n",
              "3         C100008  0.000001  0.000268  0.041391    0.000185  0.000000   \n",
              "4         C100010  0.000000  0.001108  0.109124    0.000504  0.000000   \n",
              "...           ...       ...       ...       ...         ...       ...   \n",
              "11976     C115967  0.000000  0.001802  0.088091    0.000089  0.000015   \n",
              "11977     C115968  0.000003  0.002149  0.222815    0.000208  0.000000   \n",
              "11978     C115970  0.000002  0.000179  0.173857    0.000000  0.000179   \n",
              "11979     C115972  0.000001  0.000098  0.047358    0.000000  0.000021   \n",
              "11980     C115973  0.000000  0.000658  0.118880    0.000113  0.000273   \n",
              "\n",
              "          HOUSE  LESSTHAN600k     CHILD  JOB_CLASS   REVENUE  HANDSET_PRICE  \\\n",
              "0      0.999752      0.000000  0.000004   0.000003  0.000178       0.000173   \n",
              "1      0.996814      0.000003  0.000000   0.000003  0.000253       0.000621   \n",
              "2      0.997474      0.000000  0.000004   0.000002  0.000135       0.000525   \n",
              "3      0.999143      0.000000  0.000003   0.000003  0.000087       0.000395   \n",
              "4      0.994027      0.000003  0.000005   0.000008  0.000194       0.000441   \n",
              "...         ...           ...       ...        ...       ...            ...   \n",
              "11976  0.996111      0.000002  0.000000   0.000009  0.000278       0.000662   \n",
              "11977  0.974856      0.000003  0.000009   0.000003  0.000591       0.001812   \n",
              "11978  0.984769      0.000002  0.000007   0.000002  0.000210       0.001679   \n",
              "11979  0.998878      0.000000  0.000004   0.000001  0.000178       0.000356   \n",
              "11980  0.992908      0.000003  0.000007   0.000014  0.000474       0.000869   \n",
              "\n",
              "       OVER_15MINS_CALLS_PER_MONTH  TIME_CLIENT  AVERAGE_CALL_DURATION  \\\n",
              "0                         0.000001     0.000001               0.000017   \n",
              "1                         0.000068     0.000007               0.000010   \n",
              "2                         0.000021     0.000003               0.000004   \n",
              "3                         0.000013     0.000003               0.000012   \n",
              "4                         0.000045     0.000006               0.000025   \n",
              "...                            ...          ...                    ...   \n",
              "11976                     0.000011     0.000008               0.000009   \n",
              "11977                     0.000015     0.000012               0.000039   \n",
              "11978                     0.000002     0.000003               0.000002   \n",
              "11979                     0.000000     0.000002               0.000010   \n",
              "11980                     0.000014     0.000017               0.000051   \n",
              "\n",
              "       REPORTED_SATISFACTION  REPORTED_USAGE_LEVEL  \\\n",
              "0                   0.000004              0.000002   \n",
              "1                   0.000005              0.000005   \n",
              "2                   0.000000              0.000004   \n",
              "3                   0.000002              0.000003   \n",
              "4                   0.000010              0.000005   \n",
              "...                      ...                   ...   \n",
              "11976               0.000000              0.000004   \n",
              "11977               0.000006              0.000006   \n",
              "11978               0.000004              0.000004   \n",
              "11979               0.000005              0.000003   \n",
              "11980               0.000014              0.000007   \n",
              "\n",
              "       CONSIDERING_CHANGE_OF_PLAN  CHURNED  \n",
              "0                        0.000001        1  \n",
              "1                        0.000003        0  \n",
              "2                        0.000001        1  \n",
              "3                        0.000001        0  \n",
              "4                        0.000000        0  \n",
              "...                           ...      ...  \n",
              "11976                    0.000000        1  \n",
              "11977                    0.000000        0  \n",
              "11978                    0.000000        0  \n",
              "11979                    0.000001        1  \n",
              "11980                    0.000014        1  \n",
              "\n",
              "[11981 rows x 19 columns]"
            ],
            "text/html": [
              "\n",
              "  <div id=\"df-a3bdaa69-f007-4816-88f3-a9eb06f851a3\">\n",
              "    <div class=\"colab-df-container\">\n",
              "      <div>\n",
              "<style scoped>\n",
              "    .dataframe tbody tr th:only-of-type {\n",
              "        vertical-align: middle;\n",
              "    }\n",
              "\n",
              "    .dataframe tbody tr th {\n",
              "        vertical-align: top;\n",
              "    }\n",
              "\n",
              "    .dataframe thead th {\n",
              "        text-align: right;\n",
              "    }\n",
              "</style>\n",
              "<table border=\"1\" class=\"dataframe\">\n",
              "  <thead>\n",
              "    <tr style=\"text-align: right;\">\n",
              "      <th></th>\n",
              "      <th>CUSTOMER_ID</th>\n",
              "      <th>COLLEGE</th>\n",
              "      <th>DATA</th>\n",
              "      <th>INCOME</th>\n",
              "      <th>OVERCHARGE</th>\n",
              "      <th>LEFTOVER</th>\n",
              "      <th>HOUSE</th>\n",
              "      <th>LESSTHAN600k</th>\n",
              "      <th>CHILD</th>\n",
              "      <th>JOB_CLASS</th>\n",
              "      <th>REVENUE</th>\n",
              "      <th>HANDSET_PRICE</th>\n",
              "      <th>OVER_15MINS_CALLS_PER_MONTH</th>\n",
              "      <th>TIME_CLIENT</th>\n",
              "      <th>AVERAGE_CALL_DURATION</th>\n",
              "      <th>REPORTED_SATISFACTION</th>\n",
              "      <th>REPORTED_USAGE_LEVEL</th>\n",
              "      <th>CONSIDERING_CHANGE_OF_PLAN</th>\n",
              "      <th>CHURNED</th>\n",
              "    </tr>\n",
              "  </thead>\n",
              "  <tbody>\n",
              "    <tr>\n",
              "      <th>0</th>\n",
              "      <td>C100000</td>\n",
              "      <td>0.000001</td>\n",
              "      <td>0.000735</td>\n",
              "      <td>0.022277</td>\n",
              "      <td>0.000000</td>\n",
              "      <td>0.000000</td>\n",
              "      <td>0.999752</td>\n",
              "      <td>0.000000</td>\n",
              "      <td>0.000004</td>\n",
              "      <td>0.000003</td>\n",
              "      <td>0.000178</td>\n",
              "      <td>0.000173</td>\n",
              "      <td>0.000001</td>\n",
              "      <td>0.000001</td>\n",
              "      <td>0.000017</td>\n",
              "      <td>0.000004</td>\n",
              "      <td>0.000002</td>\n",
              "      <td>0.000001</td>\n",
              "      <td>1</td>\n",
              "    </tr>\n",
              "    <tr>\n",
              "      <th>1</th>\n",
              "      <td>C100001</td>\n",
              "      <td>0.000000</td>\n",
              "      <td>0.000805</td>\n",
              "      <td>0.079759</td>\n",
              "      <td>0.000393</td>\n",
              "      <td>0.000038</td>\n",
              "      <td>0.996814</td>\n",
              "      <td>0.000003</td>\n",
              "      <td>0.000000</td>\n",
              "      <td>0.000003</td>\n",
              "      <td>0.000253</td>\n",
              "      <td>0.000621</td>\n",
              "      <td>0.000068</td>\n",
              "      <td>0.000007</td>\n",
              "      <td>0.000010</td>\n",
              "      <td>0.000005</td>\n",
              "      <td>0.000005</td>\n",
              "      <td>0.000003</td>\n",
              "      <td>0</td>\n",
              "    </tr>\n",
              "    <tr>\n",
              "      <th>2</th>\n",
              "      <td>C100006</td>\n",
              "      <td>0.000001</td>\n",
              "      <td>0.000222</td>\n",
              "      <td>0.071035</td>\n",
              "      <td>0.000000</td>\n",
              "      <td>0.000014</td>\n",
              "      <td>0.997474</td>\n",
              "      <td>0.000000</td>\n",
              "      <td>0.000004</td>\n",
              "      <td>0.000002</td>\n",
              "      <td>0.000135</td>\n",
              "      <td>0.000525</td>\n",
              "      <td>0.000021</td>\n",
              "      <td>0.000003</td>\n",
              "      <td>0.000004</td>\n",
              "      <td>0.000000</td>\n",
              "      <td>0.000004</td>\n",
              "      <td>0.000001</td>\n",
              "      <td>1</td>\n",
              "    </tr>\n",
              "    <tr>\n",
              "      <th>3</th>\n",
              "      <td>C100008</td>\n",
              "      <td>0.000001</td>\n",
              "      <td>0.000268</td>\n",
              "      <td>0.041391</td>\n",
              "      <td>0.000185</td>\n",
              "      <td>0.000000</td>\n",
              "      <td>0.999143</td>\n",
              "      <td>0.000000</td>\n",
              "      <td>0.000003</td>\n",
              "      <td>0.000003</td>\n",
              "      <td>0.000087</td>\n",
              "      <td>0.000395</td>\n",
              "      <td>0.000013</td>\n",
              "      <td>0.000003</td>\n",
              "      <td>0.000012</td>\n",
              "      <td>0.000002</td>\n",
              "      <td>0.000003</td>\n",
              "      <td>0.000001</td>\n",
              "      <td>0</td>\n",
              "    </tr>\n",
              "    <tr>\n",
              "      <th>4</th>\n",
              "      <td>C100010</td>\n",
              "      <td>0.000000</td>\n",
              "      <td>0.001108</td>\n",
              "      <td>0.109124</td>\n",
              "      <td>0.000504</td>\n",
              "      <td>0.000000</td>\n",
              "      <td>0.994027</td>\n",
              "      <td>0.000003</td>\n",
              "      <td>0.000005</td>\n",
              "      <td>0.000008</td>\n",
              "      <td>0.000194</td>\n",
              "      <td>0.000441</td>\n",
              "      <td>0.000045</td>\n",
              "      <td>0.000006</td>\n",
              "      <td>0.000025</td>\n",
              "      <td>0.000010</td>\n",
              "      <td>0.000005</td>\n",
              "      <td>0.000000</td>\n",
              "      <td>0</td>\n",
              "    </tr>\n",
              "    <tr>\n",
              "      <th>...</th>\n",
              "      <td>...</td>\n",
              "      <td>...</td>\n",
              "      <td>...</td>\n",
              "      <td>...</td>\n",
              "      <td>...</td>\n",
              "      <td>...</td>\n",
              "      <td>...</td>\n",
              "      <td>...</td>\n",
              "      <td>...</td>\n",
              "      <td>...</td>\n",
              "      <td>...</td>\n",
              "      <td>...</td>\n",
              "      <td>...</td>\n",
              "      <td>...</td>\n",
              "      <td>...</td>\n",
              "      <td>...</td>\n",
              "      <td>...</td>\n",
              "      <td>...</td>\n",
              "      <td>...</td>\n",
              "    </tr>\n",
              "    <tr>\n",
              "      <th>11976</th>\n",
              "      <td>C115967</td>\n",
              "      <td>0.000000</td>\n",
              "      <td>0.001802</td>\n",
              "      <td>0.088091</td>\n",
              "      <td>0.000089</td>\n",
              "      <td>0.000015</td>\n",
              "      <td>0.996111</td>\n",
              "      <td>0.000002</td>\n",
              "      <td>0.000000</td>\n",
              "      <td>0.000009</td>\n",
              "      <td>0.000278</td>\n",
              "      <td>0.000662</td>\n",
              "      <td>0.000011</td>\n",
              "      <td>0.000008</td>\n",
              "      <td>0.000009</td>\n",
              "      <td>0.000000</td>\n",
              "      <td>0.000004</td>\n",
              "      <td>0.000000</td>\n",
              "      <td>1</td>\n",
              "    </tr>\n",
              "    <tr>\n",
              "      <th>11977</th>\n",
              "      <td>C115968</td>\n",
              "      <td>0.000003</td>\n",
              "      <td>0.002149</td>\n",
              "      <td>0.222815</td>\n",
              "      <td>0.000208</td>\n",
              "      <td>0.000000</td>\n",
              "      <td>0.974856</td>\n",
              "      <td>0.000003</td>\n",
              "      <td>0.000009</td>\n",
              "      <td>0.000003</td>\n",
              "      <td>0.000591</td>\n",
              "      <td>0.001812</td>\n",
              "      <td>0.000015</td>\n",
              "      <td>0.000012</td>\n",
              "      <td>0.000039</td>\n",
              "      <td>0.000006</td>\n",
              "      <td>0.000006</td>\n",
              "      <td>0.000000</td>\n",
              "      <td>0</td>\n",
              "    </tr>\n",
              "    <tr>\n",
              "      <th>11978</th>\n",
              "      <td>C115970</td>\n",
              "      <td>0.000002</td>\n",
              "      <td>0.000179</td>\n",
              "      <td>0.173857</td>\n",
              "      <td>0.000000</td>\n",
              "      <td>0.000179</td>\n",
              "      <td>0.984769</td>\n",
              "      <td>0.000002</td>\n",
              "      <td>0.000007</td>\n",
              "      <td>0.000002</td>\n",
              "      <td>0.000210</td>\n",
              "      <td>0.001679</td>\n",
              "      <td>0.000002</td>\n",
              "      <td>0.000003</td>\n",
              "      <td>0.000002</td>\n",
              "      <td>0.000004</td>\n",
              "      <td>0.000004</td>\n",
              "      <td>0.000000</td>\n",
              "      <td>0</td>\n",
              "    </tr>\n",
              "    <tr>\n",
              "      <th>11979</th>\n",
              "      <td>C115972</td>\n",
              "      <td>0.000001</td>\n",
              "      <td>0.000098</td>\n",
              "      <td>0.047358</td>\n",
              "      <td>0.000000</td>\n",
              "      <td>0.000021</td>\n",
              "      <td>0.998878</td>\n",
              "      <td>0.000000</td>\n",
              "      <td>0.000004</td>\n",
              "      <td>0.000001</td>\n",
              "      <td>0.000178</td>\n",
              "      <td>0.000356</td>\n",
              "      <td>0.000000</td>\n",
              "      <td>0.000002</td>\n",
              "      <td>0.000010</td>\n",
              "      <td>0.000005</td>\n",
              "      <td>0.000003</td>\n",
              "      <td>0.000001</td>\n",
              "      <td>1</td>\n",
              "    </tr>\n",
              "    <tr>\n",
              "      <th>11980</th>\n",
              "      <td>C115973</td>\n",
              "      <td>0.000000</td>\n",
              "      <td>0.000658</td>\n",
              "      <td>0.118880</td>\n",
              "      <td>0.000113</td>\n",
              "      <td>0.000273</td>\n",
              "      <td>0.992908</td>\n",
              "      <td>0.000003</td>\n",
              "      <td>0.000007</td>\n",
              "      <td>0.000014</td>\n",
              "      <td>0.000474</td>\n",
              "      <td>0.000869</td>\n",
              "      <td>0.000014</td>\n",
              "      <td>0.000017</td>\n",
              "      <td>0.000051</td>\n",
              "      <td>0.000014</td>\n",
              "      <td>0.000007</td>\n",
              "      <td>0.000014</td>\n",
              "      <td>1</td>\n",
              "    </tr>\n",
              "  </tbody>\n",
              "</table>\n",
              "<p>11981 rows × 19 columns</p>\n",
              "</div>\n",
              "      <button class=\"colab-df-convert\" onclick=\"convertToInteractive('df-a3bdaa69-f007-4816-88f3-a9eb06f851a3')\"\n",
              "              title=\"Convert this dataframe to an interactive table.\"\n",
              "              style=\"display:none;\">\n",
              "        \n",
              "  <svg xmlns=\"http://www.w3.org/2000/svg\" height=\"24px\"viewBox=\"0 0 24 24\"\n",
              "       width=\"24px\">\n",
              "    <path d=\"M0 0h24v24H0V0z\" fill=\"none\"/>\n",
              "    <path d=\"M18.56 5.44l.94 2.06.94-2.06 2.06-.94-2.06-.94-.94-2.06-.94 2.06-2.06.94zm-11 1L8.5 8.5l.94-2.06 2.06-.94-2.06-.94L8.5 2.5l-.94 2.06-2.06.94zm10 10l.94 2.06.94-2.06 2.06-.94-2.06-.94-.94-2.06-.94 2.06-2.06.94z\"/><path d=\"M17.41 7.96l-1.37-1.37c-.4-.4-.92-.59-1.43-.59-.52 0-1.04.2-1.43.59L10.3 9.45l-7.72 7.72c-.78.78-.78 2.05 0 2.83L4 21.41c.39.39.9.59 1.41.59.51 0 1.02-.2 1.41-.59l7.78-7.78 2.81-2.81c.8-.78.8-2.07 0-2.86zM5.41 20L4 18.59l7.72-7.72 1.47 1.35L5.41 20z\"/>\n",
              "  </svg>\n",
              "      </button>\n",
              "      \n",
              "  <style>\n",
              "    .colab-df-container {\n",
              "      display:flex;\n",
              "      flex-wrap:wrap;\n",
              "      gap: 12px;\n",
              "    }\n",
              "\n",
              "    .colab-df-convert {\n",
              "      background-color: #E8F0FE;\n",
              "      border: none;\n",
              "      border-radius: 50%;\n",
              "      cursor: pointer;\n",
              "      display: none;\n",
              "      fill: #1967D2;\n",
              "      height: 32px;\n",
              "      padding: 0 0 0 0;\n",
              "      width: 32px;\n",
              "    }\n",
              "\n",
              "    .colab-df-convert:hover {\n",
              "      background-color: #E2EBFA;\n",
              "      box-shadow: 0px 1px 2px rgba(60, 64, 67, 0.3), 0px 1px 3px 1px rgba(60, 64, 67, 0.15);\n",
              "      fill: #174EA6;\n",
              "    }\n",
              "\n",
              "    [theme=dark] .colab-df-convert {\n",
              "      background-color: #3B4455;\n",
              "      fill: #D2E3FC;\n",
              "    }\n",
              "\n",
              "    [theme=dark] .colab-df-convert:hover {\n",
              "      background-color: #434B5C;\n",
              "      box-shadow: 0px 1px 3px 1px rgba(0, 0, 0, 0.15);\n",
              "      filter: drop-shadow(0px 1px 2px rgba(0, 0, 0, 0.3));\n",
              "      fill: #FFFFFF;\n",
              "    }\n",
              "  </style>\n",
              "\n",
              "      <script>\n",
              "        const buttonEl =\n",
              "          document.querySelector('#df-a3bdaa69-f007-4816-88f3-a9eb06f851a3 button.colab-df-convert');\n",
              "        buttonEl.style.display =\n",
              "          google.colab.kernel.accessAllowed ? 'block' : 'none';\n",
              "\n",
              "        async function convertToInteractive(key) {\n",
              "          const element = document.querySelector('#df-a3bdaa69-f007-4816-88f3-a9eb06f851a3');\n",
              "          const dataTable =\n",
              "            await google.colab.kernel.invokeFunction('convertToInteractive',\n",
              "                                                     [key], {});\n",
              "          if (!dataTable) return;\n",
              "\n",
              "          const docLinkHtml = 'Like what you see? Visit the ' +\n",
              "            '<a target=\"_blank\" href=https://colab.research.google.com/notebooks/data_table.ipynb>data table notebook</a>'\n",
              "            + ' to learn more about interactive tables.';\n",
              "          element.innerHTML = '';\n",
              "          dataTable['output_type'] = 'display_data';\n",
              "          await google.colab.output.renderOutput(dataTable, element);\n",
              "          const docLink = document.createElement('div');\n",
              "          docLink.innerHTML = docLinkHtml;\n",
              "          element.appendChild(docLink);\n",
              "        }\n",
              "      </script>\n",
              "    </div>\n",
              "  </div>\n",
              "  "
            ]
          },
          "metadata": {},
          "execution_count": 280
        }
      ]
    },
    {
      "cell_type": "code",
      "source": [
        "x=df_training.drop(['CHURNED','CUSTOMER_ID'],axis=1)\n",
        "y=df_training['CHURNED']\n",
        "print(x.shape)\n",
        "print(y)"
      ],
      "metadata": {
        "colab": {
          "base_uri": "https://localhost:8080/"
        },
        "id": "JGDIGBLUQBwQ",
        "outputId": "110f6eeb-7409-42cb-a63c-7e74ef8d5b0f"
      },
      "execution_count": 281,
      "outputs": [
        {
          "output_type": "stream",
          "name": "stdout",
          "text": [
            "(11981, 17)\n",
            "0        1\n",
            "1        0\n",
            "2        1\n",
            "3        0\n",
            "4        0\n",
            "        ..\n",
            "11976    1\n",
            "11977    0\n",
            "11978    0\n",
            "11979    1\n",
            "11980    1\n",
            "Name: CHURNED, Length: 11981, dtype: int64\n"
          ]
        }
      ]
    },
    {
      "cell_type": "markdown",
      "source": [
        "split the data"
      ],
      "metadata": {
        "id": "FMu8bWazRTuG"
      }
    },
    {
      "cell_type": "code",
      "source": [
        "from sklearn.model_selection import train_test_split\n",
        "\n",
        "X_train, X_test, y_train, y_test = train_test_split(x, y, test_size = 0.2)"
      ],
      "metadata": {
        "id": "XW67peXnRWi1"
      },
      "execution_count": 282,
      "outputs": []
    },
    {
      "cell_type": "code",
      "source": [
        "print(X_train.shape)\n",
        "print(X_test.shape)\n",
        "print(y_train.shape)\n",
        "print(y_test.shape)"
      ],
      "metadata": {
        "colab": {
          "base_uri": "https://localhost:8080/"
        },
        "id": "Di3ckKDyRj2V",
        "outputId": "180e8cba-b6f9-4ad9-a128-367eba9256b1"
      },
      "execution_count": 283,
      "outputs": [
        {
          "output_type": "stream",
          "name": "stdout",
          "text": [
            "(9584, 17)\n",
            "(2397, 17)\n",
            "(9584,)\n",
            "(2397,)\n"
          ]
        }
      ]
    },
    {
      "cell_type": "markdown",
      "source": [
        "#model"
      ],
      "metadata": {
        "id": "GdYcOoNQR0MV"
      }
    },
    {
      "cell_type": "markdown",
      "source": [
        "as our data is imblanced, here I choose to work with XGbOOST"
      ],
      "metadata": {
        "id": "F5qdU0D5R2Pf"
      }
    },
    {
      "cell_type": "markdown",
      "source": [
        "**train the XGBOOST model**"
      ],
      "metadata": {
        "id": "StJIKvHY7_LX"
      }
    },
    {
      "cell_type": "code",
      "source": [
        "from xgboost import XGBClassifier"
      ],
      "metadata": {
        "id": "vwAOK4CR7tDW"
      },
      "execution_count": 284,
      "outputs": []
    },
    {
      "cell_type": "code",
      "source": [
        "# fit model no training data\n",
        "model_xgboost = XGBClassifier(silent=False, \n",
        "                      scale_pos_weight=1,\n",
        "                      learning_rate=0.01,  \n",
        "                      colsample_bytree = 0.4,\n",
        "                      subsample = 0.8,\n",
        "                      objective='binary:logistic', \n",
        "                      n_estimators=1000, \n",
        "                      reg_alpha = 0.3,\n",
        "                      max_depth=13, \n",
        "                      gamma=10)\n",
        "model_xgboost.fit(X_train, y_train)"
      ],
      "metadata": {
        "id": "P3BwXCC4SBNf",
        "colab": {
          "base_uri": "https://localhost:8080/"
        },
        "outputId": "b8d10134-3e88-43a5-c7e2-7452c3dbceef"
      },
      "execution_count": 285,
      "outputs": [
        {
          "output_type": "execute_result",
          "data": {
            "text/plain": [
              "XGBClassifier(colsample_bytree=0.4, gamma=10, learning_rate=0.01, max_depth=13,\n",
              "              n_estimators=1000, reg_alpha=0.3, silent=False, subsample=0.8)"
            ]
          },
          "metadata": {},
          "execution_count": 285
        }
      ]
    },
    {
      "cell_type": "markdown",
      "source": [
        "Make prediction with XGBOOST model"
      ],
      "metadata": {
        "id": "B7WjMAXX8GcS"
      }
    },
    {
      "cell_type": "code",
      "source": [
        "# make predictions for test data\n",
        "y_pred = model_xgboost.predict(X_test)"
      ],
      "metadata": {
        "id": "irOpfx_r77Ml"
      },
      "execution_count": 286,
      "outputs": []
    },
    {
      "cell_type": "code",
      "source": [
        "print(y_pred)"
      ],
      "metadata": {
        "colab": {
          "base_uri": "https://localhost:8080/"
        },
        "id": "THu1D1mk8QJM",
        "outputId": "f26e7718-d150-48e3-9149-64eebe4a9ccb"
      },
      "execution_count": 287,
      "outputs": [
        {
          "output_type": "stream",
          "name": "stdout",
          "text": [
            "[1 1 1 ... 1 1 1]\n"
          ]
        }
      ]
    },
    {
      "cell_type": "code",
      "source": [
        "y_pred_prob=model_xgboost.predict_proba(X_test)\n",
        "print(y_pred_prob[:,0]) #probability of being in class 0 that's mean if they leave "
      ],
      "metadata": {
        "colab": {
          "base_uri": "https://localhost:8080/"
        },
        "id": "C3BCBWe69SP9",
        "outputId": "c0ce643a-7d37-46a3-bb7a-0a791abeef90"
      },
      "execution_count": 288,
      "outputs": [
        {
          "output_type": "stream",
          "name": "stdout",
          "text": [
            "[0.22502977 0.26562738 0.385305   ... 0.09054118 0.37409866 0.24790514]\n"
          ]
        }
      ]
    },
    {
      "cell_type": "code",
      "source": [
        "y_pred_prob=model_xgboost.predict_proba(X_test)\n",
        "print(y_pred_prob)"
      ],
      "metadata": {
        "colab": {
          "base_uri": "https://localhost:8080/"
        },
        "id": "IY_JAbXR-AgH",
        "outputId": "2ed3531f-9272-4a4b-b4a8-41e692541436"
      },
      "execution_count": 289,
      "outputs": [
        {
          "output_type": "stream",
          "name": "stdout",
          "text": [
            "[[0.22502977 0.77497023]\n",
            " [0.26562738 0.7343726 ]\n",
            " [0.385305   0.614695  ]\n",
            " ...\n",
            " [0.09054118 0.9094588 ]\n",
            " [0.37409866 0.62590134]\n",
            " [0.24790514 0.75209486]]\n"
          ]
        }
      ]
    },
    {
      "cell_type": "markdown",
      "source": [
        "evaluate the model "
      ],
      "metadata": {
        "id": "Q-74yqvs-bQE"
      }
    },
    {
      "cell_type": "code",
      "source": [
        "from sklearn.metrics import  roc_auc_score\n",
        "y_val=model_xgboost.predict(X_train)\n",
        "score_train=roc_auc_score(y_train,y_val)\n",
        "score_test=roc_auc_score(y_test,y_pred)\n",
        "print(\"the score train is equal to:{}\".format(score_train))\n",
        "print(\"the score test is equal to:{}\".format(score_test))"
      ],
      "metadata": {
        "colab": {
          "base_uri": "https://localhost:8080/"
        },
        "id": "q22xatae4sJm",
        "outputId": "e3a22390-c28e-49ce-9bce-63b2bd468c86"
      },
      "execution_count": 290,
      "outputs": [
        {
          "output_type": "stream",
          "name": "stdout",
          "text": [
            "the score train is equal to:0.7843645602778675\n",
            "the score test is equal to:0.7040173572228443\n"
          ]
        }
      ]
    },
    {
      "cell_type": "code",
      "source": [],
      "metadata": {
        "id": "d5DMbEsQbq3q"
      },
      "execution_count": 290,
      "outputs": []
    },
    {
      "cell_type": "markdown",
      "source": [
        "**train logistic regression model**"
      ],
      "metadata": {
        "id": "L2V56XGm80uN"
      }
    },
    {
      "cell_type": "code",
      "source": [
        "# Running logistic regression model\n",
        "from sklearn.linear_model import LogisticRegression\n",
        "model2 = LogisticRegression()\n",
        "result = model2.fit(X_train, y_train)\n",
        "y_pred1 = model2.predict(X_test)\n",
        "y_val=model2.predict(X_train)\n",
        "from sklearn.metrics import  roc_auc_score\n",
        "score_test=roc_auc_score(y_test,y_pred1)\n",
        "score_train=roc_auc_score(y_train,y_val)\n",
        "print(\"the score train is equal to:{}\".format(score_train))\n",
        "print(\"the score test is equal to:{}\".format(score_test))"
      ],
      "metadata": {
        "colab": {
          "base_uri": "https://localhost:8080/"
        },
        "id": "rbOBS2-C85Zt",
        "outputId": "0438d769-24db-4d10-82de-f747965bcb4e"
      },
      "execution_count": 291,
      "outputs": [
        {
          "output_type": "stream",
          "name": "stdout",
          "text": [
            "the score train is equal to:0.5286387977660266\n",
            "the score test is equal to:0.5206117021276595\n"
          ]
        }
      ]
    },
    {
      "cell_type": "markdown",
      "source": [
        "train random forest model"
      ],
      "metadata": {
        "id": "LC0VqueD-6D2"
      }
    },
    {
      "cell_type": "code",
      "source": [
        "from sklearn.ensemble import RandomForestClassifier\n",
        "model_rf = RandomForestClassifier(n_estimators=2000 , oob_score = True, n_jobs = -1,\n",
        "                                  random_state =50, max_features = \"auto\",\n",
        "                                  max_leaf_nodes = 30)\n",
        "model_rf.fit(X_train, y_train)\n",
        "\n",
        "y_pred1 =model_rf.predict(X_test)\n",
        "y_val=model_rf.predict(X_train)\n",
        "from sklearn.metrics import  roc_auc_score\n",
        "score_test=roc_auc_score(y_test,y_pred1)\n",
        "\n",
        "print(\"the score train is equal to:{}\".format(score_train))\n",
        "print(\"the score test is equal to:{}\".format(score_test))"
      ],
      "metadata": {
        "colab": {
          "base_uri": "https://localhost:8080/"
        },
        "id": "9v8ViYHw-86s",
        "outputId": "f255bfda-9400-4784-97ef-505be296a526"
      },
      "execution_count": 292,
      "outputs": [
        {
          "output_type": "stream",
          "name": "stdout",
          "text": [
            "the score train is equal to:0.5286387977660266\n",
            "the score test is equal to:0.6200132978723405\n"
          ]
        }
      ]
    },
    {
      "cell_type": "markdown",
      "source": [
        "# conclusion of the previous part"
      ],
      "metadata": {
        "id": "6u3GcQq7_gyt"
      }
    },
    {
      "cell_type": "markdown",
      "source": [
        "after training three differents algorithms spcific for the case of binary classsification which is the case here, we take note  that the best one is XGBOOST and this has been clear from the beginning because usually XGBOOST give the best result with imbalanced data"
      ],
      "metadata": {
        "id": "Q8529aQp_2eG"
      }
    },
    {
      "cell_type": "markdown",
      "source": [
        "but when we look to the score of the training , we note that it is low(~52%) so this the an underfitting, we must resolve that in the second part"
      ],
      "metadata": {
        "id": "6eNfCG4RBMMV"
      }
    },
    {
      "cell_type": "markdown",
      "source": [
        "# part2: cleanning the test dataset"
      ],
      "metadata": {
        "id": "2Yo6tFl5s-wI"
      }
    },
    {
      "cell_type": "code",
      "source": [
        "df_validation=pd.read_csv(\"validation.csv\")"
      ],
      "metadata": {
        "id": "7NLtFMoSFvsc"
      },
      "execution_count": 293,
      "outputs": []
    },
    {
      "cell_type": "code",
      "source": [
        "print(df_validation.head())\n",
        "print(df_validation.shape)"
      ],
      "metadata": {
        "colab": {
          "base_uri": "https://localhost:8080/"
        },
        "id": "oJvQYk_mF7-h",
        "outputId": "ae3d65bc-6625-4b56-dde2-81a0c624fd66"
      },
      "execution_count": 294,
      "outputs": [
        {
          "output_type": "stream",
          "name": "stdout",
          "text": [
            "  CUSTOMER_ID COLLEGE        DATA   INCOME  OVERCHARGE  LEFTOVER     HOUSE  \\\n",
            "0     C100002     one   80.000000  45452.5          75        65  342741.0   \n",
            "1     C100003    zero  536.842105  40703.5          90         0  215904.0   \n",
            "2     C100004    zero  256.578947  35563.0          52         0  341828.0   \n",
            "3     C100005    zero  466.666667  66072.5           0         8  257222.0   \n",
            "4     C100007    zero  150.000000  21901.5           0         0  800811.0   \n",
            "\n",
            "  LESSTHAN600k  CHILD  JOB_CLASS  REVENUE  HANDSET_PRICE  \\\n",
            "0         True      3          1    149.0            300   \n",
            "1         True      1          1    176.0            384   \n",
            "2         True      2          3    124.0            371   \n",
            "3         True      3          1    279.0            324   \n",
            "4        False      1          3    128.0            164   \n",
            "\n",
            "   OVER_15MINS_CALLS_PER_MONTH  TIME_CLIENT  AVERAGE_CALL_DURATION  \\\n",
            "0                            3          2.2                      2   \n",
            "1                            4          2.4                     13   \n",
            "2                            5          2.3                     12   \n",
            "3                            1          2.8                      5   \n",
            "4                            1          1.5                     12   \n",
            "\n",
            "  REPORTED_SATISFACTION REPORTED_USAGE_LEVEL CONSIDERING_CHANGE_OF_PLAN  \n",
            "0                 unsat               little                considering  \n",
            "1                 unsat            very_high   actively_looking_into_it  \n",
            "2              very_sat                  avg                considering  \n",
            "3              very_sat          very_little   actively_looking_into_it  \n",
            "4                   avg            very_high                    perhaps  \n",
            "(3993, 18)\n"
          ]
        }
      ]
    },
    {
      "cell_type": "code",
      "source": [
        "missing_value_continous(df_validation[\"HOUSE\"])\n",
        "missing_value_categorical(df_validation[\"LESSTHAN600k\"])"
      ],
      "metadata": {
        "id": "F3EwdGNvGTSd"
      },
      "execution_count": 295,
      "outputs": []
    },
    {
      "cell_type": "code",
      "source": [
        "df_validation.isna().sum()"
      ],
      "metadata": {
        "colab": {
          "base_uri": "https://localhost:8080/"
        },
        "id": "lpT8QzjbGaNu",
        "outputId": "4fabbc02-4daf-4a6e-864a-a519c52b56f4"
      },
      "execution_count": 296,
      "outputs": [
        {
          "output_type": "execute_result",
          "data": {
            "text/plain": [
              "CUSTOMER_ID                    0\n",
              "COLLEGE                        0\n",
              "DATA                           0\n",
              "INCOME                         0\n",
              "OVERCHARGE                     0\n",
              "LEFTOVER                       0\n",
              "HOUSE                          0\n",
              "LESSTHAN600k                   0\n",
              "CHILD                          0\n",
              "JOB_CLASS                      0\n",
              "REVENUE                        0\n",
              "HANDSET_PRICE                  0\n",
              "OVER_15MINS_CALLS_PER_MONTH    0\n",
              "TIME_CLIENT                    0\n",
              "AVERAGE_CALL_DURATION          0\n",
              "REPORTED_SATISFACTION          0\n",
              "REPORTED_USAGE_LEVEL           0\n",
              "CONSIDERING_CHANGE_OF_PLAN     0\n",
              "dtype: int64"
            ]
          },
          "metadata": {},
          "execution_count": 296
        }
      ]
    },
    {
      "cell_type": "code",
      "source": [
        "df_validation[\"COLLEGE\"]= label_encoder.fit_transform(df_validation[\"COLLEGE\"])\n",
        "df_validation[\"REPORTED_SATISFACTION\"]= label_encoder.fit_transform(df_validation[\"REPORTED_SATISFACTION\"])\n",
        "df_validation[\"REPORTED_USAGE_LEVEL\"]= label_encoder.fit_transform(df_validation[\"REPORTED_USAGE_LEVEL\"])\n",
        "df_validation[\"CONSIDERING_CHANGE_OF_PLAN\"]= label_encoder.fit_transform(df_validation[\"CONSIDERING_CHANGE_OF_PLAN\"])\n",
        "df_validation[\"LESSTHAN600k\"]= label_encoder.fit_transform(df_validation[\"LESSTHAN600k\"])"
      ],
      "metadata": {
        "id": "QnXUGGInGwUG"
      },
      "execution_count": 297,
      "outputs": []
    },
    {
      "cell_type": "code",
      "source": [
        "X_test1=df_validation.drop([\"CUSTOMER_ID\"],axis=1)"
      ],
      "metadata": {
        "id": "sWCFAJSOI1Su"
      },
      "execution_count": 298,
      "outputs": []
    },
    {
      "cell_type": "code",
      "source": [
        "print(X_test1.head(12))"
      ],
      "metadata": {
        "colab": {
          "base_uri": "https://localhost:8080/"
        },
        "id": "l_If-I5kJ6AW",
        "outputId": "3c9963cd-d034-496c-d6af-5bc64077af5d"
      },
      "execution_count": 299,
      "outputs": [
        {
          "output_type": "stream",
          "name": "stdout",
          "text": [
            "    COLLEGE         DATA   INCOME  OVERCHARGE  LEFTOVER     HOUSE  \\\n",
            "0         0    80.000000  45452.5          75        65  342741.0   \n",
            "1         1   536.842105  40703.5          90         0  215904.0   \n",
            "2         1   256.578947  35563.0          52         0  341828.0   \n",
            "3         1   466.666667  66072.5           0         8  257222.0   \n",
            "4         1   150.000000  21901.5           0         0  800811.0   \n",
            "5         1   540.000000  14447.5           0         0  715285.0   \n",
            "6         0   219.230769  11289.0           0        16  215378.0   \n",
            "7         0   105.263158  34274.0         233        18  288131.0   \n",
            "8         0   630.000000  12003.5           0         0  227976.0   \n",
            "9         1   132.075472  30533.5          37        34  310740.0   \n",
            "10        0  1000.000000  48029.0          77        12  513048.0   \n",
            "11        0   176.308540  63669.0         229        76  863186.0   \n",
            "\n",
            "    LESSTHAN600k  CHILD  JOB_CLASS  REVENUE  HANDSET_PRICE  \\\n",
            "0              1      3          1    149.0            300   \n",
            "1              1      1          1    176.0            384   \n",
            "2              1      2          3    124.0            371   \n",
            "3              1      3          1    279.0            324   \n",
            "4              0      1          3    128.0            164   \n",
            "5              0      3          4    217.0            159   \n",
            "6              1      2          3    106.0            163   \n",
            "7              1      3          1    173.0            245   \n",
            "8              1      2          3    143.0            197   \n",
            "9              1      4          3    157.0            327   \n",
            "10             1      1          1    125.0            349   \n",
            "11             0      3          3    186.0            268   \n",
            "\n",
            "    OVER_15MINS_CALLS_PER_MONTH  TIME_CLIENT  AVERAGE_CALL_DURATION  \\\n",
            "0                             3          2.2                      2   \n",
            "1                             4          2.4                     13   \n",
            "2                             5          2.3                     12   \n",
            "3                             1          2.8                      5   \n",
            "4                             1          1.5                     12   \n",
            "5                             0          1.8                      9   \n",
            "6                             1          2.9                      4   \n",
            "7                            12          1.8                      6   \n",
            "8                             1          1.1                     12   \n",
            "9                             4          1.1                      1   \n",
            "10                            5          3.9                      8   \n",
            "11                           25          5.4                      1   \n",
            "\n",
            "    REPORTED_SATISFACTION  REPORTED_USAGE_LEVEL  CONSIDERING_CHANGE_OF_PLAN  \n",
            "0                       2                     2                           1  \n",
            "1                       2                     3                           0  \n",
            "2                       3                     0                           1  \n",
            "3                       3                     4                           0  \n",
            "4                       0                     3                           4  \n",
            "5                       1                     1                           1  \n",
            "6                       3                     1                           1  \n",
            "7                       2                     2                           1  \n",
            "8                       3                     4                           0  \n",
            "9                       2                     3                           1  \n",
            "10                      4                     4                           0  \n",
            "11                      1                     2                           1  \n"
          ]
        }
      ]
    },
    {
      "cell_type": "code",
      "source": [
        "X_test1.shape"
      ],
      "metadata": {
        "colab": {
          "base_uri": "https://localhost:8080/"
        },
        "id": "1XTKSiR_KCze",
        "outputId": "449c40cc-ab6b-402e-8534-2928b8e9a86b"
      },
      "execution_count": 300,
      "outputs": [
        {
          "output_type": "execute_result",
          "data": {
            "text/plain": [
              "(3993, 17)"
            ]
          },
          "metadata": {},
          "execution_count": 300
        }
      ]
    },
    {
      "cell_type": "code",
      "source": [
        "from sklearn.preprocessing import Normalizer\n",
        "\n",
        "norm = Normalizer()\n",
        "X_test1.iloc[:,1:-1] = norm.fit_transform(X_test1.iloc[:,1:-1])\n",
        "X_test1"
      ],
      "metadata": {
        "colab": {
          "base_uri": "https://localhost:8080/",
          "height": 488
        },
        "id": "7DPgGdfrJ07G",
        "outputId": "7b0e46ba-e3bf-457a-9b7a-c3687f899b9b"
      },
      "execution_count": 301,
      "outputs": [
        {
          "output_type": "execute_result",
          "data": {
            "text/plain": [
              "      COLLEGE      DATA    INCOME  OVERCHARGE  LEFTOVER     HOUSE  \\\n",
              "0           0  0.000231  0.131464    0.000217  0.000188  0.991320   \n",
              "1           1  0.002443  0.185261    0.000410  0.000000  0.982684   \n",
              "2           1  0.000747  0.103479    0.000151  0.000000  0.994631   \n",
              "3           1  0.001757  0.248792    0.000000  0.000030  0.968554   \n",
              "4           1  0.000187  0.027339    0.000000  0.000000  0.999626   \n",
              "...       ...       ...       ...         ...       ...       ...   \n",
              "3988        0  0.001165  0.064030    0.000000  0.000000  0.997947   \n",
              "3989        1  0.001247  0.134730    0.000517  0.000016  0.990881   \n",
              "3990        1  0.000167  0.061930    0.000383  0.000093  0.998080   \n",
              "3991        0  0.001458  0.075575    0.000085  0.000000  0.997138   \n",
              "3992        1  0.000696  0.252168    0.000000  0.000044  0.967680   \n",
              "\n",
              "      LESSTHAN600k     CHILD  JOB_CLASS   REVENUE  HANDSET_PRICE  \\\n",
              "0         0.000003  0.000009   0.000003  0.000431       0.000868   \n",
              "1         0.000005  0.000005   0.000005  0.000801       0.001748   \n",
              "2         0.000003  0.000006   0.000009  0.000361       0.001080   \n",
              "3         0.000004  0.000011   0.000004  0.001051       0.001220   \n",
              "4         0.000000  0.000001   0.000004  0.000160       0.000205   \n",
              "...            ...       ...        ...       ...            ...   \n",
              "3988      0.000000  0.000005   0.000001  0.000204       0.000564   \n",
              "3989      0.000002  0.000005   0.000005  0.000491       0.000450   \n",
              "3990      0.000000  0.000007   0.000002  0.000187       0.000228   \n",
              "3991      0.000000  0.000002   0.000002  0.000177       0.001068   \n",
              "3992      0.000005  0.000015   0.000020  0.000539       0.002470   \n",
              "\n",
              "      OVER_15MINS_CALLS_PER_MONTH  TIME_CLIENT  AVERAGE_CALL_DURATION  \\\n",
              "0                        0.000009     0.000006               0.000006   \n",
              "1                        0.000018     0.000011               0.000059   \n",
              "2                        0.000015     0.000007               0.000035   \n",
              "3                        0.000004     0.000011               0.000019   \n",
              "4                        0.000001     0.000002               0.000015   \n",
              "...                           ...          ...                    ...   \n",
              "3988                     0.000000     0.000003               0.000011   \n",
              "3989                     0.000039     0.000012               0.000009   \n",
              "3990                     0.000020     0.000003               0.000002   \n",
              "3991                     0.000004     0.000008               0.000015   \n",
              "3992                     0.000000     0.000009               0.000020   \n",
              "\n",
              "      REPORTED_SATISFACTION  REPORTED_USAGE_LEVEL  CONSIDERING_CHANGE_OF_PLAN  \n",
              "0                  0.000006              0.000006                           1  \n",
              "1                  0.000009              0.000014                           0  \n",
              "2                  0.000009              0.000000                           1  \n",
              "3                  0.000011              0.000015                           0  \n",
              "4                  0.000000              0.000004                           4  \n",
              "...                     ...                   ...                         ...  \n",
              "3988               0.000000              0.000004                           2  \n",
              "3989               0.000002              0.000005                           1  \n",
              "3990               0.000005              0.000002                           1  \n",
              "3991               0.000005              0.000002                           1  \n",
              "3992               0.000020              0.000010                           3  \n",
              "\n",
              "[3993 rows x 17 columns]"
            ],
            "text/html": [
              "\n",
              "  <div id=\"df-343417a8-fe56-4e32-a66a-b6ec604b34fa\">\n",
              "    <div class=\"colab-df-container\">\n",
              "      <div>\n",
              "<style scoped>\n",
              "    .dataframe tbody tr th:only-of-type {\n",
              "        vertical-align: middle;\n",
              "    }\n",
              "\n",
              "    .dataframe tbody tr th {\n",
              "        vertical-align: top;\n",
              "    }\n",
              "\n",
              "    .dataframe thead th {\n",
              "        text-align: right;\n",
              "    }\n",
              "</style>\n",
              "<table border=\"1\" class=\"dataframe\">\n",
              "  <thead>\n",
              "    <tr style=\"text-align: right;\">\n",
              "      <th></th>\n",
              "      <th>COLLEGE</th>\n",
              "      <th>DATA</th>\n",
              "      <th>INCOME</th>\n",
              "      <th>OVERCHARGE</th>\n",
              "      <th>LEFTOVER</th>\n",
              "      <th>HOUSE</th>\n",
              "      <th>LESSTHAN600k</th>\n",
              "      <th>CHILD</th>\n",
              "      <th>JOB_CLASS</th>\n",
              "      <th>REVENUE</th>\n",
              "      <th>HANDSET_PRICE</th>\n",
              "      <th>OVER_15MINS_CALLS_PER_MONTH</th>\n",
              "      <th>TIME_CLIENT</th>\n",
              "      <th>AVERAGE_CALL_DURATION</th>\n",
              "      <th>REPORTED_SATISFACTION</th>\n",
              "      <th>REPORTED_USAGE_LEVEL</th>\n",
              "      <th>CONSIDERING_CHANGE_OF_PLAN</th>\n",
              "    </tr>\n",
              "  </thead>\n",
              "  <tbody>\n",
              "    <tr>\n",
              "      <th>0</th>\n",
              "      <td>0</td>\n",
              "      <td>0.000231</td>\n",
              "      <td>0.131464</td>\n",
              "      <td>0.000217</td>\n",
              "      <td>0.000188</td>\n",
              "      <td>0.991320</td>\n",
              "      <td>0.000003</td>\n",
              "      <td>0.000009</td>\n",
              "      <td>0.000003</td>\n",
              "      <td>0.000431</td>\n",
              "      <td>0.000868</td>\n",
              "      <td>0.000009</td>\n",
              "      <td>0.000006</td>\n",
              "      <td>0.000006</td>\n",
              "      <td>0.000006</td>\n",
              "      <td>0.000006</td>\n",
              "      <td>1</td>\n",
              "    </tr>\n",
              "    <tr>\n",
              "      <th>1</th>\n",
              "      <td>1</td>\n",
              "      <td>0.002443</td>\n",
              "      <td>0.185261</td>\n",
              "      <td>0.000410</td>\n",
              "      <td>0.000000</td>\n",
              "      <td>0.982684</td>\n",
              "      <td>0.000005</td>\n",
              "      <td>0.000005</td>\n",
              "      <td>0.000005</td>\n",
              "      <td>0.000801</td>\n",
              "      <td>0.001748</td>\n",
              "      <td>0.000018</td>\n",
              "      <td>0.000011</td>\n",
              "      <td>0.000059</td>\n",
              "      <td>0.000009</td>\n",
              "      <td>0.000014</td>\n",
              "      <td>0</td>\n",
              "    </tr>\n",
              "    <tr>\n",
              "      <th>2</th>\n",
              "      <td>1</td>\n",
              "      <td>0.000747</td>\n",
              "      <td>0.103479</td>\n",
              "      <td>0.000151</td>\n",
              "      <td>0.000000</td>\n",
              "      <td>0.994631</td>\n",
              "      <td>0.000003</td>\n",
              "      <td>0.000006</td>\n",
              "      <td>0.000009</td>\n",
              "      <td>0.000361</td>\n",
              "      <td>0.001080</td>\n",
              "      <td>0.000015</td>\n",
              "      <td>0.000007</td>\n",
              "      <td>0.000035</td>\n",
              "      <td>0.000009</td>\n",
              "      <td>0.000000</td>\n",
              "      <td>1</td>\n",
              "    </tr>\n",
              "    <tr>\n",
              "      <th>3</th>\n",
              "      <td>1</td>\n",
              "      <td>0.001757</td>\n",
              "      <td>0.248792</td>\n",
              "      <td>0.000000</td>\n",
              "      <td>0.000030</td>\n",
              "      <td>0.968554</td>\n",
              "      <td>0.000004</td>\n",
              "      <td>0.000011</td>\n",
              "      <td>0.000004</td>\n",
              "      <td>0.001051</td>\n",
              "      <td>0.001220</td>\n",
              "      <td>0.000004</td>\n",
              "      <td>0.000011</td>\n",
              "      <td>0.000019</td>\n",
              "      <td>0.000011</td>\n",
              "      <td>0.000015</td>\n",
              "      <td>0</td>\n",
              "    </tr>\n",
              "    <tr>\n",
              "      <th>4</th>\n",
              "      <td>1</td>\n",
              "      <td>0.000187</td>\n",
              "      <td>0.027339</td>\n",
              "      <td>0.000000</td>\n",
              "      <td>0.000000</td>\n",
              "      <td>0.999626</td>\n",
              "      <td>0.000000</td>\n",
              "      <td>0.000001</td>\n",
              "      <td>0.000004</td>\n",
              "      <td>0.000160</td>\n",
              "      <td>0.000205</td>\n",
              "      <td>0.000001</td>\n",
              "      <td>0.000002</td>\n",
              "      <td>0.000015</td>\n",
              "      <td>0.000000</td>\n",
              "      <td>0.000004</td>\n",
              "      <td>4</td>\n",
              "    </tr>\n",
              "    <tr>\n",
              "      <th>...</th>\n",
              "      <td>...</td>\n",
              "      <td>...</td>\n",
              "      <td>...</td>\n",
              "      <td>...</td>\n",
              "      <td>...</td>\n",
              "      <td>...</td>\n",
              "      <td>...</td>\n",
              "      <td>...</td>\n",
              "      <td>...</td>\n",
              "      <td>...</td>\n",
              "      <td>...</td>\n",
              "      <td>...</td>\n",
              "      <td>...</td>\n",
              "      <td>...</td>\n",
              "      <td>...</td>\n",
              "      <td>...</td>\n",
              "      <td>...</td>\n",
              "    </tr>\n",
              "    <tr>\n",
              "      <th>3988</th>\n",
              "      <td>0</td>\n",
              "      <td>0.001165</td>\n",
              "      <td>0.064030</td>\n",
              "      <td>0.000000</td>\n",
              "      <td>0.000000</td>\n",
              "      <td>0.997947</td>\n",
              "      <td>0.000000</td>\n",
              "      <td>0.000005</td>\n",
              "      <td>0.000001</td>\n",
              "      <td>0.000204</td>\n",
              "      <td>0.000564</td>\n",
              "      <td>0.000000</td>\n",
              "      <td>0.000003</td>\n",
              "      <td>0.000011</td>\n",
              "      <td>0.000000</td>\n",
              "      <td>0.000004</td>\n",
              "      <td>2</td>\n",
              "    </tr>\n",
              "    <tr>\n",
              "      <th>3989</th>\n",
              "      <td>1</td>\n",
              "      <td>0.001247</td>\n",
              "      <td>0.134730</td>\n",
              "      <td>0.000517</td>\n",
              "      <td>0.000016</td>\n",
              "      <td>0.990881</td>\n",
              "      <td>0.000002</td>\n",
              "      <td>0.000005</td>\n",
              "      <td>0.000005</td>\n",
              "      <td>0.000491</td>\n",
              "      <td>0.000450</td>\n",
              "      <td>0.000039</td>\n",
              "      <td>0.000012</td>\n",
              "      <td>0.000009</td>\n",
              "      <td>0.000002</td>\n",
              "      <td>0.000005</td>\n",
              "      <td>1</td>\n",
              "    </tr>\n",
              "    <tr>\n",
              "      <th>3990</th>\n",
              "      <td>1</td>\n",
              "      <td>0.000167</td>\n",
              "      <td>0.061930</td>\n",
              "      <td>0.000383</td>\n",
              "      <td>0.000093</td>\n",
              "      <td>0.998080</td>\n",
              "      <td>0.000000</td>\n",
              "      <td>0.000007</td>\n",
              "      <td>0.000002</td>\n",
              "      <td>0.000187</td>\n",
              "      <td>0.000228</td>\n",
              "      <td>0.000020</td>\n",
              "      <td>0.000003</td>\n",
              "      <td>0.000002</td>\n",
              "      <td>0.000005</td>\n",
              "      <td>0.000002</td>\n",
              "      <td>1</td>\n",
              "    </tr>\n",
              "    <tr>\n",
              "      <th>3991</th>\n",
              "      <td>0</td>\n",
              "      <td>0.001458</td>\n",
              "      <td>0.075575</td>\n",
              "      <td>0.000085</td>\n",
              "      <td>0.000000</td>\n",
              "      <td>0.997138</td>\n",
              "      <td>0.000000</td>\n",
              "      <td>0.000002</td>\n",
              "      <td>0.000002</td>\n",
              "      <td>0.000177</td>\n",
              "      <td>0.001068</td>\n",
              "      <td>0.000004</td>\n",
              "      <td>0.000008</td>\n",
              "      <td>0.000015</td>\n",
              "      <td>0.000005</td>\n",
              "      <td>0.000002</td>\n",
              "      <td>1</td>\n",
              "    </tr>\n",
              "    <tr>\n",
              "      <th>3992</th>\n",
              "      <td>1</td>\n",
              "      <td>0.000696</td>\n",
              "      <td>0.252168</td>\n",
              "      <td>0.000000</td>\n",
              "      <td>0.000044</td>\n",
              "      <td>0.967680</td>\n",
              "      <td>0.000005</td>\n",
              "      <td>0.000015</td>\n",
              "      <td>0.000020</td>\n",
              "      <td>0.000539</td>\n",
              "      <td>0.002470</td>\n",
              "      <td>0.000000</td>\n",
              "      <td>0.000009</td>\n",
              "      <td>0.000020</td>\n",
              "      <td>0.000020</td>\n",
              "      <td>0.000010</td>\n",
              "      <td>3</td>\n",
              "    </tr>\n",
              "  </tbody>\n",
              "</table>\n",
              "<p>3993 rows × 17 columns</p>\n",
              "</div>\n",
              "      <button class=\"colab-df-convert\" onclick=\"convertToInteractive('df-343417a8-fe56-4e32-a66a-b6ec604b34fa')\"\n",
              "              title=\"Convert this dataframe to an interactive table.\"\n",
              "              style=\"display:none;\">\n",
              "        \n",
              "  <svg xmlns=\"http://www.w3.org/2000/svg\" height=\"24px\"viewBox=\"0 0 24 24\"\n",
              "       width=\"24px\">\n",
              "    <path d=\"M0 0h24v24H0V0z\" fill=\"none\"/>\n",
              "    <path d=\"M18.56 5.44l.94 2.06.94-2.06 2.06-.94-2.06-.94-.94-2.06-.94 2.06-2.06.94zm-11 1L8.5 8.5l.94-2.06 2.06-.94-2.06-.94L8.5 2.5l-.94 2.06-2.06.94zm10 10l.94 2.06.94-2.06 2.06-.94-2.06-.94-.94-2.06-.94 2.06-2.06.94z\"/><path d=\"M17.41 7.96l-1.37-1.37c-.4-.4-.92-.59-1.43-.59-.52 0-1.04.2-1.43.59L10.3 9.45l-7.72 7.72c-.78.78-.78 2.05 0 2.83L4 21.41c.39.39.9.59 1.41.59.51 0 1.02-.2 1.41-.59l7.78-7.78 2.81-2.81c.8-.78.8-2.07 0-2.86zM5.41 20L4 18.59l7.72-7.72 1.47 1.35L5.41 20z\"/>\n",
              "  </svg>\n",
              "      </button>\n",
              "      \n",
              "  <style>\n",
              "    .colab-df-container {\n",
              "      display:flex;\n",
              "      flex-wrap:wrap;\n",
              "      gap: 12px;\n",
              "    }\n",
              "\n",
              "    .colab-df-convert {\n",
              "      background-color: #E8F0FE;\n",
              "      border: none;\n",
              "      border-radius: 50%;\n",
              "      cursor: pointer;\n",
              "      display: none;\n",
              "      fill: #1967D2;\n",
              "      height: 32px;\n",
              "      padding: 0 0 0 0;\n",
              "      width: 32px;\n",
              "    }\n",
              "\n",
              "    .colab-df-convert:hover {\n",
              "      background-color: #E2EBFA;\n",
              "      box-shadow: 0px 1px 2px rgba(60, 64, 67, 0.3), 0px 1px 3px 1px rgba(60, 64, 67, 0.15);\n",
              "      fill: #174EA6;\n",
              "    }\n",
              "\n",
              "    [theme=dark] .colab-df-convert {\n",
              "      background-color: #3B4455;\n",
              "      fill: #D2E3FC;\n",
              "    }\n",
              "\n",
              "    [theme=dark] .colab-df-convert:hover {\n",
              "      background-color: #434B5C;\n",
              "      box-shadow: 0px 1px 3px 1px rgba(0, 0, 0, 0.15);\n",
              "      filter: drop-shadow(0px 1px 2px rgba(0, 0, 0, 0.3));\n",
              "      fill: #FFFFFF;\n",
              "    }\n",
              "  </style>\n",
              "\n",
              "      <script>\n",
              "        const buttonEl =\n",
              "          document.querySelector('#df-343417a8-fe56-4e32-a66a-b6ec604b34fa button.colab-df-convert');\n",
              "        buttonEl.style.display =\n",
              "          google.colab.kernel.accessAllowed ? 'block' : 'none';\n",
              "\n",
              "        async function convertToInteractive(key) {\n",
              "          const element = document.querySelector('#df-343417a8-fe56-4e32-a66a-b6ec604b34fa');\n",
              "          const dataTable =\n",
              "            await google.colab.kernel.invokeFunction('convertToInteractive',\n",
              "                                                     [key], {});\n",
              "          if (!dataTable) return;\n",
              "\n",
              "          const docLinkHtml = 'Like what you see? Visit the ' +\n",
              "            '<a target=\"_blank\" href=https://colab.research.google.com/notebooks/data_table.ipynb>data table notebook</a>'\n",
              "            + ' to learn more about interactive tables.';\n",
              "          element.innerHTML = '';\n",
              "          dataTable['output_type'] = 'display_data';\n",
              "          await google.colab.output.renderOutput(dataTable, element);\n",
              "          const docLink = document.createElement('div');\n",
              "          docLink.innerHTML = docLinkHtml;\n",
              "          element.appendChild(docLink);\n",
              "        }\n",
              "      </script>\n",
              "    </div>\n",
              "  </div>\n",
              "  "
            ]
          },
          "metadata": {},
          "execution_count": 301
        }
      ]
    },
    {
      "cell_type": "code",
      "source": [
        "df_validation ['CUSTOMER_ID']"
      ],
      "metadata": {
        "colab": {
          "base_uri": "https://localhost:8080/"
        },
        "id": "vRlg4wQLKoIY",
        "outputId": "9be9b5c5-9ee3-454c-c90a-16213bc1ebc4"
      },
      "execution_count": 302,
      "outputs": [
        {
          "output_type": "execute_result",
          "data": {
            "text/plain": [
              "0       C100002\n",
              "1       C100003\n",
              "2       C100004\n",
              "3       C100005\n",
              "4       C100007\n",
              "         ...   \n",
              "3988    C115959\n",
              "3989    C115961\n",
              "3990    C115962\n",
              "3991    C115969\n",
              "3992    C115971\n",
              "Name: CUSTOMER_ID, Length: 3993, dtype: object"
            ]
          },
          "metadata": {},
          "execution_count": 302
        }
      ]
    },
    {
      "cell_type": "code",
      "source": [
        "test_label=model_xgboost.predict(X_test1)\n",
        "print(test_label)\n",
        "print(test_label.shape)"
      ],
      "metadata": {
        "colab": {
          "base_uri": "https://localhost:8080/"
        },
        "id": "8eO7RjVMKbCS",
        "outputId": "fd2a54ae-5b65-46fb-f7d3-d1988c5dde44"
      },
      "execution_count": 303,
      "outputs": [
        {
          "output_type": "stream",
          "name": "stdout",
          "text": [
            "[1 0 1 ... 1 1 1]\n",
            "(3993,)\n"
          ]
        }
      ]
    },
    {
      "cell_type": "code",
      "source": [
        "test_label_proba=model_xgboost.predict_proba(X_test1)\n",
        "print(test_label_proba)\n"
      ],
      "metadata": {
        "colab": {
          "base_uri": "https://localhost:8080/"
        },
        "id": "lc5RK0zXSXbZ",
        "outputId": "778e2175-4831-40f5-899c-ace0b07534a4"
      },
      "execution_count": 304,
      "outputs": [
        {
          "output_type": "stream",
          "name": "stdout",
          "text": [
            "[[0.4081586  0.5918414 ]\n",
            " [0.53258586 0.4674141 ]\n",
            " [0.31247866 0.68752134]\n",
            " ...\n",
            " [0.19864768 0.8013523 ]\n",
            " [0.3083316  0.6916684 ]\n",
            " [0.07606226 0.92393774]]\n"
          ]
        }
      ]
    },
    {
      "cell_type": "code",
      "source": [
        "prob_of_leave=test_label_proba[:,0]\n",
        "print(prob_of_leave)"
      ],
      "metadata": {
        "colab": {
          "base_uri": "https://localhost:8080/"
        },
        "id": "cDCT9r-xTdWD",
        "outputId": "b8e572f2-bf3b-4e5c-9421-0d6492a0d818"
      },
      "execution_count": 310,
      "outputs": [
        {
          "output_type": "stream",
          "name": "stdout",
          "text": [
            "[0.4081586  0.53258586 0.31247866 ... 0.19864768 0.3083316  0.07606226]\n"
          ]
        }
      ]
    },
    {
      "cell_type": "code",
      "source": [
        "\"\"\" insering new column in an existing dataframe\"\"\"\n",
        "#df.insert(1, \"patient_name\", columntoadd)"
      ],
      "metadata": {
        "colab": {
          "base_uri": "https://localhost:8080/",
          "height": 35
        },
        "id": "wlg2O2WgPXS9",
        "outputId": "1b0859bf-2501-4c63-b129-432b84dcc734"
      },
      "execution_count": 305,
      "outputs": [
        {
          "output_type": "execute_result",
          "data": {
            "text/plain": [
              "' insering new column in an existing dataframe'"
            ],
            "application/vnd.google.colaboratory.intrinsic+json": {
              "type": "string"
            }
          },
          "metadata": {},
          "execution_count": 305
        }
      ]
    },
    {
      "cell_type": "code",
      "source": [
        "\n",
        "#the result is a concatination between the column customer_id of the df_validation ,X_test1 and the test_label\n",
        "# result is the complet dataset of the test after adding the missing label \n",
        "X_test1.insert(0,'CUSTOMER_ID',df_validation['CUSTOMER_ID'])\n",
        "X_test1.insert(18,'CHURNED',test_label)"
      ],
      "metadata": {
        "id": "10TE13bVKhRY"
      },
      "execution_count": null,
      "outputs": []
    },
    {
      "cell_type": "code",
      "source": [
        "X_test1.insert(18,'CHURNED',test_label)"
      ],
      "metadata": {
        "id": "9VJrNgNlUMGG"
      },
      "execution_count": 312,
      "outputs": []
    },
    {
      "cell_type": "code",
      "source": [
        "X_test1.insert(19,'CHURN_PROBABILITY',prob_of_leave)"
      ],
      "metadata": {
        "id": "xKolJ-jKUS1U"
      },
      "execution_count": 314,
      "outputs": []
    },
    {
      "cell_type": "code",
      "source": [
        "X_test1.head()"
      ],
      "metadata": {
        "colab": {
          "base_uri": "https://localhost:8080/",
          "height": 270
        },
        "id": "HSH25-ccPyDB",
        "outputId": "4022c6f7-ec89-40d4-e27d-48a0cf3ad0ac"
      },
      "execution_count": 315,
      "outputs": [
        {
          "output_type": "execute_result",
          "data": {
            "text/plain": [
              "  CUSTOMER_ID  COLLEGE      DATA    INCOME  OVERCHARGE  LEFTOVER     HOUSE  \\\n",
              "0     C100002        0  0.000231  0.131464    0.000217  0.000188  0.991320   \n",
              "1     C100003        1  0.002443  0.185261    0.000410  0.000000  0.982684   \n",
              "2     C100004        1  0.000747  0.103479    0.000151  0.000000  0.994631   \n",
              "3     C100005        1  0.001757  0.248792    0.000000  0.000030  0.968554   \n",
              "4     C100007        1  0.000187  0.027339    0.000000  0.000000  0.999626   \n",
              "\n",
              "   LESSTHAN600k     CHILD  JOB_CLASS   REVENUE  HANDSET_PRICE  \\\n",
              "0      0.000003  0.000009   0.000003  0.000431       0.000868   \n",
              "1      0.000005  0.000005   0.000005  0.000801       0.001748   \n",
              "2      0.000003  0.000006   0.000009  0.000361       0.001080   \n",
              "3      0.000004  0.000011   0.000004  0.001051       0.001220   \n",
              "4      0.000000  0.000001   0.000004  0.000160       0.000205   \n",
              "\n",
              "   OVER_15MINS_CALLS_PER_MONTH  TIME_CLIENT  AVERAGE_CALL_DURATION  \\\n",
              "0                     0.000009     0.000006               0.000006   \n",
              "1                     0.000018     0.000011               0.000059   \n",
              "2                     0.000015     0.000007               0.000035   \n",
              "3                     0.000004     0.000011               0.000019   \n",
              "4                     0.000001     0.000002               0.000015   \n",
              "\n",
              "   REPORTED_SATISFACTION  REPORTED_USAGE_LEVEL  CONSIDERING_CHANGE_OF_PLAN  \\\n",
              "0               0.000006              0.000006                           1   \n",
              "1               0.000009              0.000014                           0   \n",
              "2               0.000009              0.000000                           1   \n",
              "3               0.000011              0.000015                           0   \n",
              "4               0.000000              0.000004                           4   \n",
              "\n",
              "   CHURNED  CHURN_PROBABILITY  \n",
              "0        1           0.408159  \n",
              "1        0           0.532586  \n",
              "2        1           0.312479  \n",
              "3        1           0.112478  \n",
              "4        1           0.057843  "
            ],
            "text/html": [
              "\n",
              "  <div id=\"df-1e59f6af-6f67-4c3b-907d-66696dedcecf\">\n",
              "    <div class=\"colab-df-container\">\n",
              "      <div>\n",
              "<style scoped>\n",
              "    .dataframe tbody tr th:only-of-type {\n",
              "        vertical-align: middle;\n",
              "    }\n",
              "\n",
              "    .dataframe tbody tr th {\n",
              "        vertical-align: top;\n",
              "    }\n",
              "\n",
              "    .dataframe thead th {\n",
              "        text-align: right;\n",
              "    }\n",
              "</style>\n",
              "<table border=\"1\" class=\"dataframe\">\n",
              "  <thead>\n",
              "    <tr style=\"text-align: right;\">\n",
              "      <th></th>\n",
              "      <th>CUSTOMER_ID</th>\n",
              "      <th>COLLEGE</th>\n",
              "      <th>DATA</th>\n",
              "      <th>INCOME</th>\n",
              "      <th>OVERCHARGE</th>\n",
              "      <th>LEFTOVER</th>\n",
              "      <th>HOUSE</th>\n",
              "      <th>LESSTHAN600k</th>\n",
              "      <th>CHILD</th>\n",
              "      <th>JOB_CLASS</th>\n",
              "      <th>REVENUE</th>\n",
              "      <th>HANDSET_PRICE</th>\n",
              "      <th>OVER_15MINS_CALLS_PER_MONTH</th>\n",
              "      <th>TIME_CLIENT</th>\n",
              "      <th>AVERAGE_CALL_DURATION</th>\n",
              "      <th>REPORTED_SATISFACTION</th>\n",
              "      <th>REPORTED_USAGE_LEVEL</th>\n",
              "      <th>CONSIDERING_CHANGE_OF_PLAN</th>\n",
              "      <th>CHURNED</th>\n",
              "      <th>CHURN_PROBABILITY</th>\n",
              "    </tr>\n",
              "  </thead>\n",
              "  <tbody>\n",
              "    <tr>\n",
              "      <th>0</th>\n",
              "      <td>C100002</td>\n",
              "      <td>0</td>\n",
              "      <td>0.000231</td>\n",
              "      <td>0.131464</td>\n",
              "      <td>0.000217</td>\n",
              "      <td>0.000188</td>\n",
              "      <td>0.991320</td>\n",
              "      <td>0.000003</td>\n",
              "      <td>0.000009</td>\n",
              "      <td>0.000003</td>\n",
              "      <td>0.000431</td>\n",
              "      <td>0.000868</td>\n",
              "      <td>0.000009</td>\n",
              "      <td>0.000006</td>\n",
              "      <td>0.000006</td>\n",
              "      <td>0.000006</td>\n",
              "      <td>0.000006</td>\n",
              "      <td>1</td>\n",
              "      <td>1</td>\n",
              "      <td>0.408159</td>\n",
              "    </tr>\n",
              "    <tr>\n",
              "      <th>1</th>\n",
              "      <td>C100003</td>\n",
              "      <td>1</td>\n",
              "      <td>0.002443</td>\n",
              "      <td>0.185261</td>\n",
              "      <td>0.000410</td>\n",
              "      <td>0.000000</td>\n",
              "      <td>0.982684</td>\n",
              "      <td>0.000005</td>\n",
              "      <td>0.000005</td>\n",
              "      <td>0.000005</td>\n",
              "      <td>0.000801</td>\n",
              "      <td>0.001748</td>\n",
              "      <td>0.000018</td>\n",
              "      <td>0.000011</td>\n",
              "      <td>0.000059</td>\n",
              "      <td>0.000009</td>\n",
              "      <td>0.000014</td>\n",
              "      <td>0</td>\n",
              "      <td>0</td>\n",
              "      <td>0.532586</td>\n",
              "    </tr>\n",
              "    <tr>\n",
              "      <th>2</th>\n",
              "      <td>C100004</td>\n",
              "      <td>1</td>\n",
              "      <td>0.000747</td>\n",
              "      <td>0.103479</td>\n",
              "      <td>0.000151</td>\n",
              "      <td>0.000000</td>\n",
              "      <td>0.994631</td>\n",
              "      <td>0.000003</td>\n",
              "      <td>0.000006</td>\n",
              "      <td>0.000009</td>\n",
              "      <td>0.000361</td>\n",
              "      <td>0.001080</td>\n",
              "      <td>0.000015</td>\n",
              "      <td>0.000007</td>\n",
              "      <td>0.000035</td>\n",
              "      <td>0.000009</td>\n",
              "      <td>0.000000</td>\n",
              "      <td>1</td>\n",
              "      <td>1</td>\n",
              "      <td>0.312479</td>\n",
              "    </tr>\n",
              "    <tr>\n",
              "      <th>3</th>\n",
              "      <td>C100005</td>\n",
              "      <td>1</td>\n",
              "      <td>0.001757</td>\n",
              "      <td>0.248792</td>\n",
              "      <td>0.000000</td>\n",
              "      <td>0.000030</td>\n",
              "      <td>0.968554</td>\n",
              "      <td>0.000004</td>\n",
              "      <td>0.000011</td>\n",
              "      <td>0.000004</td>\n",
              "      <td>0.001051</td>\n",
              "      <td>0.001220</td>\n",
              "      <td>0.000004</td>\n",
              "      <td>0.000011</td>\n",
              "      <td>0.000019</td>\n",
              "      <td>0.000011</td>\n",
              "      <td>0.000015</td>\n",
              "      <td>0</td>\n",
              "      <td>1</td>\n",
              "      <td>0.112478</td>\n",
              "    </tr>\n",
              "    <tr>\n",
              "      <th>4</th>\n",
              "      <td>C100007</td>\n",
              "      <td>1</td>\n",
              "      <td>0.000187</td>\n",
              "      <td>0.027339</td>\n",
              "      <td>0.000000</td>\n",
              "      <td>0.000000</td>\n",
              "      <td>0.999626</td>\n",
              "      <td>0.000000</td>\n",
              "      <td>0.000001</td>\n",
              "      <td>0.000004</td>\n",
              "      <td>0.000160</td>\n",
              "      <td>0.000205</td>\n",
              "      <td>0.000001</td>\n",
              "      <td>0.000002</td>\n",
              "      <td>0.000015</td>\n",
              "      <td>0.000000</td>\n",
              "      <td>0.000004</td>\n",
              "      <td>4</td>\n",
              "      <td>1</td>\n",
              "      <td>0.057843</td>\n",
              "    </tr>\n",
              "  </tbody>\n",
              "</table>\n",
              "</div>\n",
              "      <button class=\"colab-df-convert\" onclick=\"convertToInteractive('df-1e59f6af-6f67-4c3b-907d-66696dedcecf')\"\n",
              "              title=\"Convert this dataframe to an interactive table.\"\n",
              "              style=\"display:none;\">\n",
              "        \n",
              "  <svg xmlns=\"http://www.w3.org/2000/svg\" height=\"24px\"viewBox=\"0 0 24 24\"\n",
              "       width=\"24px\">\n",
              "    <path d=\"M0 0h24v24H0V0z\" fill=\"none\"/>\n",
              "    <path d=\"M18.56 5.44l.94 2.06.94-2.06 2.06-.94-2.06-.94-.94-2.06-.94 2.06-2.06.94zm-11 1L8.5 8.5l.94-2.06 2.06-.94-2.06-.94L8.5 2.5l-.94 2.06-2.06.94zm10 10l.94 2.06.94-2.06 2.06-.94-2.06-.94-.94-2.06-.94 2.06-2.06.94z\"/><path d=\"M17.41 7.96l-1.37-1.37c-.4-.4-.92-.59-1.43-.59-.52 0-1.04.2-1.43.59L10.3 9.45l-7.72 7.72c-.78.78-.78 2.05 0 2.83L4 21.41c.39.39.9.59 1.41.59.51 0 1.02-.2 1.41-.59l7.78-7.78 2.81-2.81c.8-.78.8-2.07 0-2.86zM5.41 20L4 18.59l7.72-7.72 1.47 1.35L5.41 20z\"/>\n",
              "  </svg>\n",
              "      </button>\n",
              "      \n",
              "  <style>\n",
              "    .colab-df-container {\n",
              "      display:flex;\n",
              "      flex-wrap:wrap;\n",
              "      gap: 12px;\n",
              "    }\n",
              "\n",
              "    .colab-df-convert {\n",
              "      background-color: #E8F0FE;\n",
              "      border: none;\n",
              "      border-radius: 50%;\n",
              "      cursor: pointer;\n",
              "      display: none;\n",
              "      fill: #1967D2;\n",
              "      height: 32px;\n",
              "      padding: 0 0 0 0;\n",
              "      width: 32px;\n",
              "    }\n",
              "\n",
              "    .colab-df-convert:hover {\n",
              "      background-color: #E2EBFA;\n",
              "      box-shadow: 0px 1px 2px rgba(60, 64, 67, 0.3), 0px 1px 3px 1px rgba(60, 64, 67, 0.15);\n",
              "      fill: #174EA6;\n",
              "    }\n",
              "\n",
              "    [theme=dark] .colab-df-convert {\n",
              "      background-color: #3B4455;\n",
              "      fill: #D2E3FC;\n",
              "    }\n",
              "\n",
              "    [theme=dark] .colab-df-convert:hover {\n",
              "      background-color: #434B5C;\n",
              "      box-shadow: 0px 1px 3px 1px rgba(0, 0, 0, 0.15);\n",
              "      filter: drop-shadow(0px 1px 2px rgba(0, 0, 0, 0.3));\n",
              "      fill: #FFFFFF;\n",
              "    }\n",
              "  </style>\n",
              "\n",
              "      <script>\n",
              "        const buttonEl =\n",
              "          document.querySelector('#df-1e59f6af-6f67-4c3b-907d-66696dedcecf button.colab-df-convert');\n",
              "        buttonEl.style.display =\n",
              "          google.colab.kernel.accessAllowed ? 'block' : 'none';\n",
              "\n",
              "        async function convertToInteractive(key) {\n",
              "          const element = document.querySelector('#df-1e59f6af-6f67-4c3b-907d-66696dedcecf');\n",
              "          const dataTable =\n",
              "            await google.colab.kernel.invokeFunction('convertToInteractive',\n",
              "                                                     [key], {});\n",
              "          if (!dataTable) return;\n",
              "\n",
              "          const docLinkHtml = 'Like what you see? Visit the ' +\n",
              "            '<a target=\"_blank\" href=https://colab.research.google.com/notebooks/data_table.ipynb>data table notebook</a>'\n",
              "            + ' to learn more about interactive tables.';\n",
              "          element.innerHTML = '';\n",
              "          dataTable['output_type'] = 'display_data';\n",
              "          await google.colab.output.renderOutput(dataTable, element);\n",
              "          const docLink = document.createElement('div');\n",
              "          docLink.innerHTML = docLinkHtml;\n",
              "          element.appendChild(docLink);\n",
              "        }\n",
              "      </script>\n",
              "    </div>\n",
              "  </div>\n",
              "  "
            ]
          },
          "metadata": {},
          "execution_count": 315
        }
      ]
    },
    {
      "cell_type": "code",
      "source": [
        "result=X_test1"
      ],
      "metadata": {
        "id": "z2OESXGORSQE"
      },
      "execution_count": 316,
      "outputs": []
    },
    {
      "cell_type": "code",
      "source": [
        "result.head(5)"
      ],
      "metadata": {
        "colab": {
          "base_uri": "https://localhost:8080/",
          "height": 270
        },
        "id": "sv8ThloqRKt4",
        "outputId": "07433e1b-218a-4f6e-a5d5-f6db30138197"
      },
      "execution_count": 317,
      "outputs": [
        {
          "output_type": "execute_result",
          "data": {
            "text/plain": [
              "  CUSTOMER_ID  COLLEGE      DATA    INCOME  OVERCHARGE  LEFTOVER     HOUSE  \\\n",
              "0     C100002        0  0.000231  0.131464    0.000217  0.000188  0.991320   \n",
              "1     C100003        1  0.002443  0.185261    0.000410  0.000000  0.982684   \n",
              "2     C100004        1  0.000747  0.103479    0.000151  0.000000  0.994631   \n",
              "3     C100005        1  0.001757  0.248792    0.000000  0.000030  0.968554   \n",
              "4     C100007        1  0.000187  0.027339    0.000000  0.000000  0.999626   \n",
              "\n",
              "   LESSTHAN600k     CHILD  JOB_CLASS   REVENUE  HANDSET_PRICE  \\\n",
              "0      0.000003  0.000009   0.000003  0.000431       0.000868   \n",
              "1      0.000005  0.000005   0.000005  0.000801       0.001748   \n",
              "2      0.000003  0.000006   0.000009  0.000361       0.001080   \n",
              "3      0.000004  0.000011   0.000004  0.001051       0.001220   \n",
              "4      0.000000  0.000001   0.000004  0.000160       0.000205   \n",
              "\n",
              "   OVER_15MINS_CALLS_PER_MONTH  TIME_CLIENT  AVERAGE_CALL_DURATION  \\\n",
              "0                     0.000009     0.000006               0.000006   \n",
              "1                     0.000018     0.000011               0.000059   \n",
              "2                     0.000015     0.000007               0.000035   \n",
              "3                     0.000004     0.000011               0.000019   \n",
              "4                     0.000001     0.000002               0.000015   \n",
              "\n",
              "   REPORTED_SATISFACTION  REPORTED_USAGE_LEVEL  CONSIDERING_CHANGE_OF_PLAN  \\\n",
              "0               0.000006              0.000006                           1   \n",
              "1               0.000009              0.000014                           0   \n",
              "2               0.000009              0.000000                           1   \n",
              "3               0.000011              0.000015                           0   \n",
              "4               0.000000              0.000004                           4   \n",
              "\n",
              "   CHURNED  CHURN_PROBABILITY  \n",
              "0        1           0.408159  \n",
              "1        0           0.532586  \n",
              "2        1           0.312479  \n",
              "3        1           0.112478  \n",
              "4        1           0.057843  "
            ],
            "text/html": [
              "\n",
              "  <div id=\"df-f25053e6-2db2-4642-a3c3-7d129ca4e539\">\n",
              "    <div class=\"colab-df-container\">\n",
              "      <div>\n",
              "<style scoped>\n",
              "    .dataframe tbody tr th:only-of-type {\n",
              "        vertical-align: middle;\n",
              "    }\n",
              "\n",
              "    .dataframe tbody tr th {\n",
              "        vertical-align: top;\n",
              "    }\n",
              "\n",
              "    .dataframe thead th {\n",
              "        text-align: right;\n",
              "    }\n",
              "</style>\n",
              "<table border=\"1\" class=\"dataframe\">\n",
              "  <thead>\n",
              "    <tr style=\"text-align: right;\">\n",
              "      <th></th>\n",
              "      <th>CUSTOMER_ID</th>\n",
              "      <th>COLLEGE</th>\n",
              "      <th>DATA</th>\n",
              "      <th>INCOME</th>\n",
              "      <th>OVERCHARGE</th>\n",
              "      <th>LEFTOVER</th>\n",
              "      <th>HOUSE</th>\n",
              "      <th>LESSTHAN600k</th>\n",
              "      <th>CHILD</th>\n",
              "      <th>JOB_CLASS</th>\n",
              "      <th>REVENUE</th>\n",
              "      <th>HANDSET_PRICE</th>\n",
              "      <th>OVER_15MINS_CALLS_PER_MONTH</th>\n",
              "      <th>TIME_CLIENT</th>\n",
              "      <th>AVERAGE_CALL_DURATION</th>\n",
              "      <th>REPORTED_SATISFACTION</th>\n",
              "      <th>REPORTED_USAGE_LEVEL</th>\n",
              "      <th>CONSIDERING_CHANGE_OF_PLAN</th>\n",
              "      <th>CHURNED</th>\n",
              "      <th>CHURN_PROBABILITY</th>\n",
              "    </tr>\n",
              "  </thead>\n",
              "  <tbody>\n",
              "    <tr>\n",
              "      <th>0</th>\n",
              "      <td>C100002</td>\n",
              "      <td>0</td>\n",
              "      <td>0.000231</td>\n",
              "      <td>0.131464</td>\n",
              "      <td>0.000217</td>\n",
              "      <td>0.000188</td>\n",
              "      <td>0.991320</td>\n",
              "      <td>0.000003</td>\n",
              "      <td>0.000009</td>\n",
              "      <td>0.000003</td>\n",
              "      <td>0.000431</td>\n",
              "      <td>0.000868</td>\n",
              "      <td>0.000009</td>\n",
              "      <td>0.000006</td>\n",
              "      <td>0.000006</td>\n",
              "      <td>0.000006</td>\n",
              "      <td>0.000006</td>\n",
              "      <td>1</td>\n",
              "      <td>1</td>\n",
              "      <td>0.408159</td>\n",
              "    </tr>\n",
              "    <tr>\n",
              "      <th>1</th>\n",
              "      <td>C100003</td>\n",
              "      <td>1</td>\n",
              "      <td>0.002443</td>\n",
              "      <td>0.185261</td>\n",
              "      <td>0.000410</td>\n",
              "      <td>0.000000</td>\n",
              "      <td>0.982684</td>\n",
              "      <td>0.000005</td>\n",
              "      <td>0.000005</td>\n",
              "      <td>0.000005</td>\n",
              "      <td>0.000801</td>\n",
              "      <td>0.001748</td>\n",
              "      <td>0.000018</td>\n",
              "      <td>0.000011</td>\n",
              "      <td>0.000059</td>\n",
              "      <td>0.000009</td>\n",
              "      <td>0.000014</td>\n",
              "      <td>0</td>\n",
              "      <td>0</td>\n",
              "      <td>0.532586</td>\n",
              "    </tr>\n",
              "    <tr>\n",
              "      <th>2</th>\n",
              "      <td>C100004</td>\n",
              "      <td>1</td>\n",
              "      <td>0.000747</td>\n",
              "      <td>0.103479</td>\n",
              "      <td>0.000151</td>\n",
              "      <td>0.000000</td>\n",
              "      <td>0.994631</td>\n",
              "      <td>0.000003</td>\n",
              "      <td>0.000006</td>\n",
              "      <td>0.000009</td>\n",
              "      <td>0.000361</td>\n",
              "      <td>0.001080</td>\n",
              "      <td>0.000015</td>\n",
              "      <td>0.000007</td>\n",
              "      <td>0.000035</td>\n",
              "      <td>0.000009</td>\n",
              "      <td>0.000000</td>\n",
              "      <td>1</td>\n",
              "      <td>1</td>\n",
              "      <td>0.312479</td>\n",
              "    </tr>\n",
              "    <tr>\n",
              "      <th>3</th>\n",
              "      <td>C100005</td>\n",
              "      <td>1</td>\n",
              "      <td>0.001757</td>\n",
              "      <td>0.248792</td>\n",
              "      <td>0.000000</td>\n",
              "      <td>0.000030</td>\n",
              "      <td>0.968554</td>\n",
              "      <td>0.000004</td>\n",
              "      <td>0.000011</td>\n",
              "      <td>0.000004</td>\n",
              "      <td>0.001051</td>\n",
              "      <td>0.001220</td>\n",
              "      <td>0.000004</td>\n",
              "      <td>0.000011</td>\n",
              "      <td>0.000019</td>\n",
              "      <td>0.000011</td>\n",
              "      <td>0.000015</td>\n",
              "      <td>0</td>\n",
              "      <td>1</td>\n",
              "      <td>0.112478</td>\n",
              "    </tr>\n",
              "    <tr>\n",
              "      <th>4</th>\n",
              "      <td>C100007</td>\n",
              "      <td>1</td>\n",
              "      <td>0.000187</td>\n",
              "      <td>0.027339</td>\n",
              "      <td>0.000000</td>\n",
              "      <td>0.000000</td>\n",
              "      <td>0.999626</td>\n",
              "      <td>0.000000</td>\n",
              "      <td>0.000001</td>\n",
              "      <td>0.000004</td>\n",
              "      <td>0.000160</td>\n",
              "      <td>0.000205</td>\n",
              "      <td>0.000001</td>\n",
              "      <td>0.000002</td>\n",
              "      <td>0.000015</td>\n",
              "      <td>0.000000</td>\n",
              "      <td>0.000004</td>\n",
              "      <td>4</td>\n",
              "      <td>1</td>\n",
              "      <td>0.057843</td>\n",
              "    </tr>\n",
              "  </tbody>\n",
              "</table>\n",
              "</div>\n",
              "      <button class=\"colab-df-convert\" onclick=\"convertToInteractive('df-f25053e6-2db2-4642-a3c3-7d129ca4e539')\"\n",
              "              title=\"Convert this dataframe to an interactive table.\"\n",
              "              style=\"display:none;\">\n",
              "        \n",
              "  <svg xmlns=\"http://www.w3.org/2000/svg\" height=\"24px\"viewBox=\"0 0 24 24\"\n",
              "       width=\"24px\">\n",
              "    <path d=\"M0 0h24v24H0V0z\" fill=\"none\"/>\n",
              "    <path d=\"M18.56 5.44l.94 2.06.94-2.06 2.06-.94-2.06-.94-.94-2.06-.94 2.06-2.06.94zm-11 1L8.5 8.5l.94-2.06 2.06-.94-2.06-.94L8.5 2.5l-.94 2.06-2.06.94zm10 10l.94 2.06.94-2.06 2.06-.94-2.06-.94-.94-2.06-.94 2.06-2.06.94z\"/><path d=\"M17.41 7.96l-1.37-1.37c-.4-.4-.92-.59-1.43-.59-.52 0-1.04.2-1.43.59L10.3 9.45l-7.72 7.72c-.78.78-.78 2.05 0 2.83L4 21.41c.39.39.9.59 1.41.59.51 0 1.02-.2 1.41-.59l7.78-7.78 2.81-2.81c.8-.78.8-2.07 0-2.86zM5.41 20L4 18.59l7.72-7.72 1.47 1.35L5.41 20z\"/>\n",
              "  </svg>\n",
              "      </button>\n",
              "      \n",
              "  <style>\n",
              "    .colab-df-container {\n",
              "      display:flex;\n",
              "      flex-wrap:wrap;\n",
              "      gap: 12px;\n",
              "    }\n",
              "\n",
              "    .colab-df-convert {\n",
              "      background-color: #E8F0FE;\n",
              "      border: none;\n",
              "      border-radius: 50%;\n",
              "      cursor: pointer;\n",
              "      display: none;\n",
              "      fill: #1967D2;\n",
              "      height: 32px;\n",
              "      padding: 0 0 0 0;\n",
              "      width: 32px;\n",
              "    }\n",
              "\n",
              "    .colab-df-convert:hover {\n",
              "      background-color: #E2EBFA;\n",
              "      box-shadow: 0px 1px 2px rgba(60, 64, 67, 0.3), 0px 1px 3px 1px rgba(60, 64, 67, 0.15);\n",
              "      fill: #174EA6;\n",
              "    }\n",
              "\n",
              "    [theme=dark] .colab-df-convert {\n",
              "      background-color: #3B4455;\n",
              "      fill: #D2E3FC;\n",
              "    }\n",
              "\n",
              "    [theme=dark] .colab-df-convert:hover {\n",
              "      background-color: #434B5C;\n",
              "      box-shadow: 0px 1px 3px 1px rgba(0, 0, 0, 0.15);\n",
              "      filter: drop-shadow(0px 1px 2px rgba(0, 0, 0, 0.3));\n",
              "      fill: #FFFFFF;\n",
              "    }\n",
              "  </style>\n",
              "\n",
              "      <script>\n",
              "        const buttonEl =\n",
              "          document.querySelector('#df-f25053e6-2db2-4642-a3c3-7d129ca4e539 button.colab-df-convert');\n",
              "        buttonEl.style.display =\n",
              "          google.colab.kernel.accessAllowed ? 'block' : 'none';\n",
              "\n",
              "        async function convertToInteractive(key) {\n",
              "          const element = document.querySelector('#df-f25053e6-2db2-4642-a3c3-7d129ca4e539');\n",
              "          const dataTable =\n",
              "            await google.colab.kernel.invokeFunction('convertToInteractive',\n",
              "                                                     [key], {});\n",
              "          if (!dataTable) return;\n",
              "\n",
              "          const docLinkHtml = 'Like what you see? Visit the ' +\n",
              "            '<a target=\"_blank\" href=https://colab.research.google.com/notebooks/data_table.ipynb>data table notebook</a>'\n",
              "            + ' to learn more about interactive tables.';\n",
              "          element.innerHTML = '';\n",
              "          dataTable['output_type'] = 'display_data';\n",
              "          await google.colab.output.renderOutput(dataTable, element);\n",
              "          const docLink = document.createElement('div');\n",
              "          docLink.innerHTML = docLinkHtml;\n",
              "          element.appendChild(docLink);\n",
              "        }\n",
              "      </script>\n",
              "    </div>\n",
              "  </div>\n",
              "  "
            ]
          },
          "metadata": {},
          "execution_count": 317
        }
      ]
    },
    {
      "cell_type": "code",
      "source": [
        "result.shape"
      ],
      "metadata": {
        "colab": {
          "base_uri": "https://localhost:8080/"
        },
        "id": "BKx_F1GSRgnn",
        "outputId": "a2014e14-13c8-4fed-d7aa-b25a09b8ebf2"
      },
      "execution_count": 318,
      "outputs": [
        {
          "output_type": "execute_result",
          "data": {
            "text/plain": [
              "(3993, 20)"
            ]
          },
          "metadata": {},
          "execution_count": 318
        }
      ]
    },
    {
      "cell_type": "code",
      "source": [
        "result.to_csv('first_result.csv')"
      ],
      "metadata": {
        "id": "-GxwYjfuUvvT"
      },
      "execution_count": 319,
      "outputs": []
    }
  ]
}